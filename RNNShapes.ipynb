{
  "nbformat": 4,
  "nbformat_minor": 0,
  "metadata": {
    "colab": {
      "provenance": []
    },
    "kernelspec": {
      "name": "python3",
      "display_name": "Python 3"
    },
    "language_info": {
      "name": "python"
    }
  },
  "cells": [
    {
      "cell_type": "code",
      "execution_count": 32,
      "metadata": {
        "id": "dFPCyOtJZP8a"
      },
      "outputs": [],
      "source": [
        "import tensorflow as tf\n",
        "from tensorflow.keras.layers import Input, SimpleRNN, Dense, Flatten\n",
        "from tensorflow.keras.models import Model\n",
        "from tensorflow.keras.optimizers import SGD, Adam\n",
        "\n",
        "import numpy as np\n",
        "import pandas as pd\n",
        "import matplotlib.pyplot as plt"
      ]
    },
    {
      "cell_type": "code",
      "source": [
        "# N = number of samples\n",
        "# T = sequence length\n",
        "# D = number of input features\n",
        "# M = number of hidden units\n",
        "# K = number of output units "
      ],
      "metadata": {
        "id": "MugpPiVfaQCc"
      },
      "execution_count": 33,
      "outputs": []
    },
    {
      "cell_type": "code",
      "source": [
        "N = 10\n",
        "T = 10\n",
        "D = 3\n",
        "K = 2\n",
        "X = np.random.randn(N, T, D)"
      ],
      "metadata": {
        "id": "U_yNRtwMao0r"
      },
      "execution_count": 34,
      "outputs": []
    },
    {
      "cell_type": "code",
      "source": [
        "M = 5\n",
        "i = Input(shape=(T, D))\n",
        "x = SimpleRNN(M)(i)\n",
        "x = Dense(K)(x)\n",
        "\n",
        "model = Model(i, x)"
      ],
      "metadata": {
        "id": "z9hpWeEKa8dJ"
      },
      "execution_count": 35,
      "outputs": []
    },
    {
      "cell_type": "code",
      "source": [
        "yhat = model.predict(X)\n",
        "print(yhat)"
      ],
      "metadata": {
        "colab": {
          "base_uri": "https://localhost:8080/"
        },
        "id": "4XdlXkzNbOJw",
        "outputId": "33e65f3b-ee04-4a75-a81e-9b5803a1ff6d"
      },
      "execution_count": 36,
      "outputs": [
        {
          "output_type": "stream",
          "name": "stdout",
          "text": [
            "1/1 [==============================] - 0s 135ms/step\n",
            "[[-0.01208027  0.57277954]\n",
            " [ 0.08566242 -0.446132  ]\n",
            " [ 0.14154996 -0.35068968]\n",
            " [ 0.2627417  -0.25875467]\n",
            " [-0.44178686  0.22801803]\n",
            " [ 0.36954817  0.4384649 ]\n",
            " [ 0.7108621  -1.2339133 ]\n",
            " [ 0.84398556 -1.0795323 ]\n",
            " [ 0.3515938  -0.6782257 ]\n",
            " [-0.6044412   0.87560403]]\n"
          ]
        }
      ]
    },
    {
      "cell_type": "code",
      "source": [
        "model.summary()"
      ],
      "metadata": {
        "colab": {
          "base_uri": "https://localhost:8080/"
        },
        "id": "tCsM-dzxb1zP",
        "outputId": "3b3b0513-4f15-4732-bd87-3780bfb789e9"
      },
      "execution_count": 37,
      "outputs": [
        {
          "output_type": "stream",
          "name": "stdout",
          "text": [
            "Model: \"model_2\"\n",
            "_________________________________________________________________\n",
            " Layer (type)                Output Shape              Param #   \n",
            "=================================================================\n",
            " input_3 (InputLayer)        [(None, 10, 3)]           0         \n",
            "                                                                 \n",
            " simple_rnn_2 (SimpleRNN)    (None, 5)                 45        \n",
            "                                                                 \n",
            " dense_2 (Dense)             (None, 2)                 12        \n",
            "                                                                 \n",
            "=================================================================\n",
            "Total params: 57\n",
            "Trainable params: 57\n",
            "Non-trainable params: 0\n",
            "_________________________________________________________________\n"
          ]
        }
      ]
    },
    {
      "cell_type": "code",
      "source": [
        "model.layers[1].get_weights()"
      ],
      "metadata": {
        "colab": {
          "base_uri": "https://localhost:8080/"
        },
        "id": "QDLm1Tn1b9gW",
        "outputId": "7c45a8c9-5b59-4d26-fa41-8b3ae91ad244"
      },
      "execution_count": 38,
      "outputs": [
        {
          "output_type": "execute_result",
          "data": {
            "text/plain": [
              "[array([[-0.3951038 ,  0.27778178, -0.10952711,  0.35174888,  0.55116004],\n",
              "        [ 0.67333657, -0.24542421,  0.12940627,  0.18594247,  0.44220442],\n",
              "        [ 0.5559065 , -0.4200146 ,  0.15774173, -0.17144513, -0.18284404]],\n",
              "       dtype=float32),\n",
              " array([[ 0.44516814,  0.6051888 , -0.1139871 ,  0.04167719,  0.6487233 ],\n",
              "        [-0.2899032 ,  0.05763198, -0.36798385,  0.88127834,  0.02389753],\n",
              "        [ 0.24905716,  0.5717816 , -0.23770726, -0.03454782, -0.743867  ],\n",
              "        [-0.77375203,  0.39075568, -0.26688045, -0.39545354,  0.14494506],\n",
              "        [-0.23887193,  0.38833106,  0.8508025 ,  0.25305018, -0.0651145 ]],\n",
              "       dtype=float32),\n",
              " array([0., 0., 0., 0., 0.], dtype=float32)]"
            ]
          },
          "metadata": {},
          "execution_count": 38
        }
      ]
    },
    {
      "cell_type": "code",
      "source": [
        "model.layers"
      ],
      "metadata": {
        "colab": {
          "base_uri": "https://localhost:8080/"
        },
        "id": "iIuSviYpdH8X",
        "outputId": "8b18f4de-3490-4689-d652-54a565a06b0e"
      },
      "execution_count": 39,
      "outputs": [
        {
          "output_type": "execute_result",
          "data": {
            "text/plain": [
              "[<keras.engine.input_layer.InputLayer at 0x7f97c4250ee0>,\n",
              " <keras.layers.rnn.simple_rnn.SimpleRNN at 0x7f97c42507c0>,\n",
              " <keras.layers.core.dense.Dense at 0x7f97c42ff970>]"
            ]
          },
          "metadata": {},
          "execution_count": 39
        }
      ]
    },
    {
      "cell_type": "code",
      "source": [
        "a, b, c = model.layers[1].get_weights()\n",
        "print(a.shape, b.shape, c.shape)"
      ],
      "metadata": {
        "colab": {
          "base_uri": "https://localhost:8080/"
        },
        "id": "BsxuWoZacNO0",
        "outputId": "8dffd45f-da21-4bfd-8355-e7f108971ab0"
      },
      "execution_count": 40,
      "outputs": [
        {
          "output_type": "stream",
          "name": "stdout",
          "text": [
            "(3, 5) (5, 5) (5,)\n"
          ]
        }
      ]
    },
    {
      "cell_type": "code",
      "source": [
        "Wx, Wh, bh = model.layers[1].get_weights()\n",
        "Wo, bo = model.layers[2].get_weights()"
      ],
      "metadata": {
        "id": "9fj_o29Ocg9x"
      },
      "execution_count": 41,
      "outputs": []
    },
    {
      "cell_type": "code",
      "source": [
        "Yhats = [] # Store the outputs\n",
        "\n",
        "for x in X:\n",
        "  h_last = np.zeros(M) # initial hidden state\n",
        "  for t in range(T):\n",
        "    h = np.tanh(x[t].dot(Wx) + h_last.dot(Wh) + bh)\n",
        "    h_last = h # update hidden RNN unit\n",
        "  y = h_last.dot(Wo) + bo # Only this value is important in the last iteration\n",
        "  Yhats.append(y)\n",
        "\n",
        "print(Yhats) # print the final output\n",
        "print(np.allclose(Yhats, yhat))"
      ],
      "metadata": {
        "colab": {
          "base_uri": "https://localhost:8080/"
        },
        "id": "JTM3rvdvdW0z",
        "outputId": "1f7f9874-7e43-4a9e-b713-e58ec8241bf4"
      },
      "execution_count": 44,
      "outputs": [
        {
          "output_type": "stream",
          "name": "stdout",
          "text": [
            "[array([-0.01208028,  0.57277955]), array([ 0.08566242, -0.44613215]), array([ 0.14154992, -0.35068971]), array([ 0.26274176, -0.25875458]), array([-0.44178683,  0.22801797]), array([0.36954808, 0.43846491]), array([ 0.71086201, -1.23391315]), array([ 0.84398552, -1.07953215]), array([ 0.35159378, -0.67822563]), array([-0.60444117,  0.87560402])]\n",
            "True\n"
          ]
        }
      ]
    },
    {
      "cell_type": "code",
      "source": [],
      "metadata": {
        "id": "UQV9WYmlfkfk"
      },
      "execution_count": null,
      "outputs": []
    }
  ]
}