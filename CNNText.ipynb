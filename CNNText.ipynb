{
  "nbformat": 4,
  "nbformat_minor": 0,
  "metadata": {
    "colab": {
      "provenance": []
    },
    "kernelspec": {
      "name": "python3",
      "display_name": "Python 3"
    },
    "language_info": {
      "name": "python"
    }
  },
  "cells": [
    {
      "cell_type": "code",
      "execution_count": 4,
      "metadata": {
        "colab": {
          "base_uri": "https://localhost:8080/"
        },
        "id": "pq691ZyoyiVu",
        "outputId": "5d08c1e8-35e2-4d28-8966-adde92d0b595"
      },
      "outputs": [
        {
          "output_type": "stream",
          "name": "stdout",
          "text": [
            "--2022-12-14 05:15:55--  https://lazyprogrammer.me/course_files/nlp/bbc_text_cls.csv\n",
            "Resolving lazyprogrammer.me (lazyprogrammer.me)... 104.21.23.210, 172.67.213.166, 2606:4700:3030::ac43:d5a6, ...\n",
            "Connecting to lazyprogrammer.me (lazyprogrammer.me)|104.21.23.210|:443... connected.\n",
            "HTTP request sent, awaiting response... 200 OK\n",
            "Length: 5085081 (4.8M) [text/csv]\n",
            "Saving to: ‘bbc_text_cls.csv’\n",
            "\n",
            "bbc_text_cls.csv    100%[===================>]   4.85M  --.-KB/s    in 0.09s   \n",
            "\n",
            "2022-12-14 05:15:55 (51.3 MB/s) - ‘bbc_text_cls.csv’ saved [5085081/5085081]\n",
            "\n"
          ]
        }
      ],
      "source": [
        "!wget -nc https://lazyprogrammer.me/course_files/nlp/bbc_text_cls.csv"
      ]
    },
    {
      "cell_type": "code",
      "source": [
        "import numpy as np\n",
        "import pandas as pd\n",
        "import tensorflow as tf\n",
        "import matplotlib.pyplot as plt\n",
        "from sklearn.model_selection import train_test_split\n",
        "\n",
        "from tensorflow.keras.preprocessing.text import Tokenizer\n",
        "from tensorflow.keras.preprocessing.sequence import pad_sequences\n",
        "from tensorflow.keras.layers import Dense, Input, GlobalMaxPooling1D, Conv1D, MaxPooling1D, Embedding\n",
        "from tensorflow.keras.models import Model\n",
        "from tensorflow.keras.losses import SparseCategoricalCrossentropy\n",
        "from sklearn.metrics import roc_auc_score, f1_score, confusion_matrix, ConfusionMatrixDisplay "
      ],
      "metadata": {
        "id": "po9SpuQuysyH"
      },
      "execution_count": 20,
      "outputs": []
    },
    {
      "cell_type": "code",
      "source": [
        "df = pd.read_csv(\"bbc_text_cls.csv\")"
      ],
      "metadata": {
        "id": "63wIG_GDzpXx"
      },
      "execution_count": 6,
      "outputs": []
    },
    {
      "cell_type": "code",
      "source": [
        "df.head()"
      ],
      "metadata": {
        "colab": {
          "base_uri": "https://localhost:8080/",
          "height": 206
        },
        "id": "0-JbGZVmz0O9",
        "outputId": "c9200eeb-ca57-4994-9535-822ef6c44734"
      },
      "execution_count": 7,
      "outputs": [
        {
          "output_type": "execute_result",
          "data": {
            "text/plain": [
              "                                                text    labels\n",
              "0  Ad sales boost Time Warner profit\\n\\nQuarterly...  business\n",
              "1  Dollar gains on Greenspan speech\\n\\nThe dollar...  business\n",
              "2  Yukos unit buyer faces loan claim\\n\\nThe owner...  business\n",
              "3  High fuel prices hit BA's profits\\n\\nBritish A...  business\n",
              "4  Pernod takeover talk lifts Domecq\\n\\nShares in...  business"
            ],
            "text/html": [
              "\n",
              "  <div id=\"df-c9414e03-f672-487e-b9f5-8641bd486c4d\">\n",
              "    <div class=\"colab-df-container\">\n",
              "      <div>\n",
              "<style scoped>\n",
              "    .dataframe tbody tr th:only-of-type {\n",
              "        vertical-align: middle;\n",
              "    }\n",
              "\n",
              "    .dataframe tbody tr th {\n",
              "        vertical-align: top;\n",
              "    }\n",
              "\n",
              "    .dataframe thead th {\n",
              "        text-align: right;\n",
              "    }\n",
              "</style>\n",
              "<table border=\"1\" class=\"dataframe\">\n",
              "  <thead>\n",
              "    <tr style=\"text-align: right;\">\n",
              "      <th></th>\n",
              "      <th>text</th>\n",
              "      <th>labels</th>\n",
              "    </tr>\n",
              "  </thead>\n",
              "  <tbody>\n",
              "    <tr>\n",
              "      <th>0</th>\n",
              "      <td>Ad sales boost Time Warner profit\\n\\nQuarterly...</td>\n",
              "      <td>business</td>\n",
              "    </tr>\n",
              "    <tr>\n",
              "      <th>1</th>\n",
              "      <td>Dollar gains on Greenspan speech\\n\\nThe dollar...</td>\n",
              "      <td>business</td>\n",
              "    </tr>\n",
              "    <tr>\n",
              "      <th>2</th>\n",
              "      <td>Yukos unit buyer faces loan claim\\n\\nThe owner...</td>\n",
              "      <td>business</td>\n",
              "    </tr>\n",
              "    <tr>\n",
              "      <th>3</th>\n",
              "      <td>High fuel prices hit BA's profits\\n\\nBritish A...</td>\n",
              "      <td>business</td>\n",
              "    </tr>\n",
              "    <tr>\n",
              "      <th>4</th>\n",
              "      <td>Pernod takeover talk lifts Domecq\\n\\nShares in...</td>\n",
              "      <td>business</td>\n",
              "    </tr>\n",
              "  </tbody>\n",
              "</table>\n",
              "</div>\n",
              "      <button class=\"colab-df-convert\" onclick=\"convertToInteractive('df-c9414e03-f672-487e-b9f5-8641bd486c4d')\"\n",
              "              title=\"Convert this dataframe to an interactive table.\"\n",
              "              style=\"display:none;\">\n",
              "        \n",
              "  <svg xmlns=\"http://www.w3.org/2000/svg\" height=\"24px\"viewBox=\"0 0 24 24\"\n",
              "       width=\"24px\">\n",
              "    <path d=\"M0 0h24v24H0V0z\" fill=\"none\"/>\n",
              "    <path d=\"M18.56 5.44l.94 2.06.94-2.06 2.06-.94-2.06-.94-.94-2.06-.94 2.06-2.06.94zm-11 1L8.5 8.5l.94-2.06 2.06-.94-2.06-.94L8.5 2.5l-.94 2.06-2.06.94zm10 10l.94 2.06.94-2.06 2.06-.94-2.06-.94-.94-2.06-.94 2.06-2.06.94z\"/><path d=\"M17.41 7.96l-1.37-1.37c-.4-.4-.92-.59-1.43-.59-.52 0-1.04.2-1.43.59L10.3 9.45l-7.72 7.72c-.78.78-.78 2.05 0 2.83L4 21.41c.39.39.9.59 1.41.59.51 0 1.02-.2 1.41-.59l7.78-7.78 2.81-2.81c.8-.78.8-2.07 0-2.86zM5.41 20L4 18.59l7.72-7.72 1.47 1.35L5.41 20z\"/>\n",
              "  </svg>\n",
              "      </button>\n",
              "      \n",
              "  <style>\n",
              "    .colab-df-container {\n",
              "      display:flex;\n",
              "      flex-wrap:wrap;\n",
              "      gap: 12px;\n",
              "    }\n",
              "\n",
              "    .colab-df-convert {\n",
              "      background-color: #E8F0FE;\n",
              "      border: none;\n",
              "      border-radius: 50%;\n",
              "      cursor: pointer;\n",
              "      display: none;\n",
              "      fill: #1967D2;\n",
              "      height: 32px;\n",
              "      padding: 0 0 0 0;\n",
              "      width: 32px;\n",
              "    }\n",
              "\n",
              "    .colab-df-convert:hover {\n",
              "      background-color: #E2EBFA;\n",
              "      box-shadow: 0px 1px 2px rgba(60, 64, 67, 0.3), 0px 1px 3px 1px rgba(60, 64, 67, 0.15);\n",
              "      fill: #174EA6;\n",
              "    }\n",
              "\n",
              "    [theme=dark] .colab-df-convert {\n",
              "      background-color: #3B4455;\n",
              "      fill: #D2E3FC;\n",
              "    }\n",
              "\n",
              "    [theme=dark] .colab-df-convert:hover {\n",
              "      background-color: #434B5C;\n",
              "      box-shadow: 0px 1px 3px 1px rgba(0, 0, 0, 0.15);\n",
              "      filter: drop-shadow(0px 1px 2px rgba(0, 0, 0, 0.3));\n",
              "      fill: #FFFFFF;\n",
              "    }\n",
              "  </style>\n",
              "\n",
              "      <script>\n",
              "        const buttonEl =\n",
              "          document.querySelector('#df-c9414e03-f672-487e-b9f5-8641bd486c4d button.colab-df-convert');\n",
              "        buttonEl.style.display =\n",
              "          google.colab.kernel.accessAllowed ? 'block' : 'none';\n",
              "\n",
              "        async function convertToInteractive(key) {\n",
              "          const element = document.querySelector('#df-c9414e03-f672-487e-b9f5-8641bd486c4d');\n",
              "          const dataTable =\n",
              "            await google.colab.kernel.invokeFunction('convertToInteractive',\n",
              "                                                     [key], {});\n",
              "          if (!dataTable) return;\n",
              "\n",
              "          const docLinkHtml = 'Like what you see? Visit the ' +\n",
              "            '<a target=\"_blank\" href=https://colab.research.google.com/notebooks/data_table.ipynb>data table notebook</a>'\n",
              "            + ' to learn more about interactive tables.';\n",
              "          element.innerHTML = '';\n",
              "          dataTable['output_type'] = 'display_data';\n",
              "          await google.colab.output.renderOutput(dataTable, element);\n",
              "          const docLink = document.createElement('div');\n",
              "          docLink.innerHTML = docLinkHtml;\n",
              "          element.appendChild(docLink);\n",
              "        }\n",
              "      </script>\n",
              "    </div>\n",
              "  </div>\n",
              "  "
            ]
          },
          "metadata": {},
          "execution_count": 7
        }
      ]
    },
    {
      "cell_type": "code",
      "source": [
        "df[\"targets\"] = df[\"labels\"].astype(\"category\").cat.codes"
      ],
      "metadata": {
        "id": "MY7FmauXz2W3"
      },
      "execution_count": 8,
      "outputs": []
    },
    {
      "cell_type": "code",
      "source": [
        "K = df[\"targets\"].max() + 1\n",
        "K"
      ],
      "metadata": {
        "colab": {
          "base_uri": "https://localhost:8080/"
        },
        "id": "FYfqDjeuz_Zi",
        "outputId": "4e94951b-ca50-487d-a73d-15833b05e509"
      },
      "execution_count": 9,
      "outputs": [
        {
          "output_type": "execute_result",
          "data": {
            "text/plain": [
              "5"
            ]
          },
          "metadata": {},
          "execution_count": 9
        }
      ]
    },
    {
      "cell_type": "code",
      "source": [
        "df_train, df_test = train_test_split(df, test_size=0.33)"
      ],
      "metadata": {
        "id": "GdeEBBRa0Fxd"
      },
      "execution_count": 10,
      "outputs": []
    },
    {
      "cell_type": "code",
      "source": [
        "MAX_VOCAB_SIZE = 2000\n",
        "tokenizer = Tokenizer(num_words=MAX_VOCAB_SIZE)\n",
        "tokenizer.fit_on_texts(df_train[\"text\"])\n",
        "sequences_train = tokenizer.texts_to_sequences(df_train[\"text\"])\n",
        "sequences_test = tokenizer.texts_to_sequences(df_test[\"text\"])"
      ],
      "metadata": {
        "id": "zsYMLDZY0MsL"
      },
      "execution_count": 11,
      "outputs": []
    },
    {
      "cell_type": "code",
      "source": [
        "word2idx = tokenizer.word_index\n",
        "V = len(word2idx)\n",
        "print(f\"Found {V} unique tokens.\")"
      ],
      "metadata": {
        "colab": {
          "base_uri": "https://localhost:8080/"
        },
        "id": "wnVQxDMh02aE",
        "outputId": "5b5183e2-d6b2-4bcd-ff88-4bbfc462aadd"
      },
      "execution_count": 12,
      "outputs": [
        {
          "output_type": "stream",
          "name": "stdout",
          "text": [
            "Found 26883 unique tokens.\n"
          ]
        }
      ]
    },
    {
      "cell_type": "code",
      "source": [
        "data_train = pad_sequences(sequences_train)\n",
        "print(f\"Shape of data train tensor {data_train.shape}\")\n",
        "\n",
        "T = data_train.shape[1]"
      ],
      "metadata": {
        "colab": {
          "base_uri": "https://localhost:8080/"
        },
        "id": "x0CAHSFX1IYV",
        "outputId": "4fe599ab-3d65-4cae-daa6-b0c378e8fbca"
      },
      "execution_count": 13,
      "outputs": [
        {
          "output_type": "stream",
          "name": "stdout",
          "text": [
            "Shape of data train tensor (1490, 3499)\n"
          ]
        }
      ]
    },
    {
      "cell_type": "code",
      "source": [
        "data_test = pad_sequences(sequences_test, maxlen=T)\n",
        "print(f\"Sahpe of data test tensor {data_test.shape}\")"
      ],
      "metadata": {
        "colab": {
          "base_uri": "https://localhost:8080/"
        },
        "id": "xB07Q8Pk1az6",
        "outputId": "928b1355-8b70-4810-d90e-c2915cdc7379"
      },
      "execution_count": 14,
      "outputs": [
        {
          "output_type": "stream",
          "name": "stdout",
          "text": [
            "Sahpe of data test tensor (735, 3499)\n"
          ]
        }
      ]
    },
    {
      "cell_type": "code",
      "source": [
        "D = 50\n",
        "i = Input(shape=(T,))\n",
        "x = Embedding(V+1, D)(i)\n",
        "x = Conv1D(32, 3, activation=\"relu\")(x)\n",
        "# x = MaxPooling1D(3)(x)\n",
        "# x = Conv1D(64, 3, activation=\"relu\")(x)\n",
        "# x = MaxPooling1D(3)(x)\n",
        "# x = Conv1D(128, 3, activation=\"relu\")(x)\n",
        "x = GlobalMaxPooling1D()(x)\n",
        "x = Dense(K)(x)\n",
        "\n",
        "model = Model(i, x)"
      ],
      "metadata": {
        "id": "EPkbtbZW2MQf"
      },
      "execution_count": 15,
      "outputs": []
    },
    {
      "cell_type": "code",
      "source": [
        "model.compile(\n",
        "    loss=SparseCategoricalCrossentropy(from_logits=True),\n",
        "    optimizer=\"adam\",\n",
        "    metrics=[\"accuracy\"]\n",
        ")\n",
        "\n",
        "ft = model.fit(\n",
        "    data_train, df_train[\"targets\"],\n",
        "    validation_data=(data_test, df_test[\"targets\"]),\n",
        "    epochs=50\n",
        ")"
      ],
      "metadata": {
        "colab": {
          "base_uri": "https://localhost:8080/"
        },
        "id": "7SsEQbR84I1h",
        "outputId": "b79ce94b-8207-40e9-8e04-be30b4eb7a73"
      },
      "execution_count": 16,
      "outputs": [
        {
          "output_type": "stream",
          "name": "stdout",
          "text": [
            "Epoch 1/50\n",
            "47/47 [==============================] - 11s 223ms/step - loss: 1.5720 - accuracy: 0.3309 - val_loss: 1.5120 - val_accuracy: 0.5401\n",
            "Epoch 2/50\n",
            "47/47 [==============================] - 10s 216ms/step - loss: 1.3675 - accuracy: 0.7430 - val_loss: 1.2314 - val_accuracy: 0.8150\n",
            "Epoch 3/50\n",
            "47/47 [==============================] - 12s 251ms/step - loss: 0.9494 - accuracy: 0.8966 - val_loss: 0.7627 - val_accuracy: 0.8871\n",
            "Epoch 4/50\n",
            "47/47 [==============================] - 10s 218ms/step - loss: 0.5050 - accuracy: 0.9396 - val_loss: 0.4412 - val_accuracy: 0.9048\n",
            "Epoch 5/50\n",
            "47/47 [==============================] - 10s 216ms/step - loss: 0.2788 - accuracy: 0.9537 - val_loss: 0.3108 - val_accuracy: 0.9211\n",
            "Epoch 6/50\n",
            "47/47 [==============================] - 10s 218ms/step - loss: 0.1786 - accuracy: 0.9678 - val_loss: 0.2483 - val_accuracy: 0.9374\n",
            "Epoch 7/50\n",
            "47/47 [==============================] - 10s 217ms/step - loss: 0.1230 - accuracy: 0.9779 - val_loss: 0.2153 - val_accuracy: 0.9442\n",
            "Epoch 8/50\n",
            "47/47 [==============================] - 10s 216ms/step - loss: 0.0880 - accuracy: 0.9919 - val_loss: 0.1923 - val_accuracy: 0.9442\n",
            "Epoch 9/50\n",
            "47/47 [==============================] - 10s 218ms/step - loss: 0.0645 - accuracy: 0.9966 - val_loss: 0.1784 - val_accuracy: 0.9469\n",
            "Epoch 10/50\n",
            "47/47 [==============================] - 10s 219ms/step - loss: 0.0483 - accuracy: 0.9973 - val_loss: 0.1684 - val_accuracy: 0.9483\n",
            "Epoch 11/50\n",
            "47/47 [==============================] - 10s 219ms/step - loss: 0.0371 - accuracy: 0.9993 - val_loss: 0.1613 - val_accuracy: 0.9497\n",
            "Epoch 12/50\n",
            "47/47 [==============================] - 10s 218ms/step - loss: 0.0290 - accuracy: 0.9993 - val_loss: 0.1568 - val_accuracy: 0.9537\n",
            "Epoch 13/50\n",
            "47/47 [==============================] - 10s 218ms/step - loss: 0.0231 - accuracy: 1.0000 - val_loss: 0.1532 - val_accuracy: 0.9524\n",
            "Epoch 14/50\n",
            "47/47 [==============================] - 10s 217ms/step - loss: 0.0188 - accuracy: 1.0000 - val_loss: 0.1503 - val_accuracy: 0.9537\n",
            "Epoch 15/50\n",
            "47/47 [==============================] - 10s 218ms/step - loss: 0.0154 - accuracy: 1.0000 - val_loss: 0.1476 - val_accuracy: 0.9537\n",
            "Epoch 16/50\n",
            "47/47 [==============================] - 10s 219ms/step - loss: 0.0129 - accuracy: 1.0000 - val_loss: 0.1464 - val_accuracy: 0.9537\n",
            "Epoch 17/50\n",
            "47/47 [==============================] - 10s 218ms/step - loss: 0.0110 - accuracy: 1.0000 - val_loss: 0.1451 - val_accuracy: 0.9551\n",
            "Epoch 18/50\n",
            "47/47 [==============================] - 10s 219ms/step - loss: 0.0094 - accuracy: 1.0000 - val_loss: 0.1438 - val_accuracy: 0.9551\n",
            "Epoch 19/50\n",
            "47/47 [==============================] - 10s 219ms/step - loss: 0.0081 - accuracy: 1.0000 - val_loss: 0.1433 - val_accuracy: 0.9551\n",
            "Epoch 20/50\n",
            "47/47 [==============================] - 10s 219ms/step - loss: 0.0071 - accuracy: 1.0000 - val_loss: 0.1429 - val_accuracy: 0.9551\n",
            "Epoch 21/50\n",
            "47/47 [==============================] - 10s 220ms/step - loss: 0.0062 - accuracy: 1.0000 - val_loss: 0.1426 - val_accuracy: 0.9551\n",
            "Epoch 22/50\n",
            "47/47 [==============================] - 10s 220ms/step - loss: 0.0055 - accuracy: 1.0000 - val_loss: 0.1422 - val_accuracy: 0.9578\n",
            "Epoch 23/50\n",
            "47/47 [==============================] - 10s 219ms/step - loss: 0.0049 - accuracy: 1.0000 - val_loss: 0.1417 - val_accuracy: 0.9578\n",
            "Epoch 24/50\n",
            "47/47 [==============================] - 10s 218ms/step - loss: 0.0044 - accuracy: 1.0000 - val_loss: 0.1417 - val_accuracy: 0.9578\n",
            "Epoch 25/50\n",
            "47/47 [==============================] - 12s 249ms/step - loss: 0.0040 - accuracy: 1.0000 - val_loss: 0.1418 - val_accuracy: 0.9578\n",
            "Epoch 26/50\n",
            "47/47 [==============================] - 10s 219ms/step - loss: 0.0036 - accuracy: 1.0000 - val_loss: 0.1414 - val_accuracy: 0.9578\n",
            "Epoch 27/50\n",
            "47/47 [==============================] - 10s 219ms/step - loss: 0.0033 - accuracy: 1.0000 - val_loss: 0.1416 - val_accuracy: 0.9578\n",
            "Epoch 28/50\n",
            "47/47 [==============================] - 10s 219ms/step - loss: 0.0030 - accuracy: 1.0000 - val_loss: 0.1414 - val_accuracy: 0.9578\n",
            "Epoch 29/50\n",
            "47/47 [==============================] - 10s 219ms/step - loss: 0.0027 - accuracy: 1.0000 - val_loss: 0.1417 - val_accuracy: 0.9578\n",
            "Epoch 30/50\n",
            "47/47 [==============================] - 10s 218ms/step - loss: 0.0025 - accuracy: 1.0000 - val_loss: 0.1417 - val_accuracy: 0.9578\n",
            "Epoch 31/50\n",
            "47/47 [==============================] - 10s 219ms/step - loss: 0.0023 - accuracy: 1.0000 - val_loss: 0.1417 - val_accuracy: 0.9592\n",
            "Epoch 32/50\n",
            "47/47 [==============================] - 10s 218ms/step - loss: 0.0021 - accuracy: 1.0000 - val_loss: 0.1418 - val_accuracy: 0.9605\n",
            "Epoch 33/50\n",
            "47/47 [==============================] - 10s 220ms/step - loss: 0.0020 - accuracy: 1.0000 - val_loss: 0.1419 - val_accuracy: 0.9605\n",
            "Epoch 34/50\n",
            "47/47 [==============================] - 18s 379ms/step - loss: 0.0018 - accuracy: 1.0000 - val_loss: 0.1420 - val_accuracy: 0.9592\n",
            "Epoch 35/50\n",
            "47/47 [==============================] - 20s 435ms/step - loss: 0.0017 - accuracy: 1.0000 - val_loss: 0.1423 - val_accuracy: 0.9592\n",
            "Epoch 36/50\n",
            "47/47 [==============================] - 10s 221ms/step - loss: 0.0016 - accuracy: 1.0000 - val_loss: 0.1424 - val_accuracy: 0.9605\n",
            "Epoch 37/50\n",
            "47/47 [==============================] - 10s 220ms/step - loss: 0.0015 - accuracy: 1.0000 - val_loss: 0.1427 - val_accuracy: 0.9605\n",
            "Epoch 38/50\n",
            "47/47 [==============================] - 10s 220ms/step - loss: 0.0014 - accuracy: 1.0000 - val_loss: 0.1425 - val_accuracy: 0.9605\n",
            "Epoch 39/50\n",
            "47/47 [==============================] - 22s 469ms/step - loss: 0.0013 - accuracy: 1.0000 - val_loss: 0.1430 - val_accuracy: 0.9605\n",
            "Epoch 40/50\n",
            "47/47 [==============================] - 19s 415ms/step - loss: 0.0012 - accuracy: 1.0000 - val_loss: 0.1429 - val_accuracy: 0.9605\n",
            "Epoch 41/50\n",
            "47/47 [==============================] - 14s 293ms/step - loss: 0.0012 - accuracy: 1.0000 - val_loss: 0.1431 - val_accuracy: 0.9605\n",
            "Epoch 42/50\n",
            "47/47 [==============================] - 14s 297ms/step - loss: 0.0011 - accuracy: 1.0000 - val_loss: 0.1433 - val_accuracy: 0.9605\n",
            "Epoch 43/50\n",
            "47/47 [==============================] - 12s 257ms/step - loss: 0.0010 - accuracy: 1.0000 - val_loss: 0.1436 - val_accuracy: 0.9605\n",
            "Epoch 44/50\n",
            "47/47 [==============================] - 10s 221ms/step - loss: 9.6600e-04 - accuracy: 1.0000 - val_loss: 0.1438 - val_accuracy: 0.9605\n",
            "Epoch 45/50\n",
            "47/47 [==============================] - 10s 220ms/step - loss: 9.1274e-04 - accuracy: 1.0000 - val_loss: 0.1440 - val_accuracy: 0.9605\n",
            "Epoch 46/50\n",
            "47/47 [==============================] - 10s 219ms/step - loss: 8.6232e-04 - accuracy: 1.0000 - val_loss: 0.1444 - val_accuracy: 0.9605\n",
            "Epoch 47/50\n",
            "47/47 [==============================] - 10s 219ms/step - loss: 8.1639e-04 - accuracy: 1.0000 - val_loss: 0.1445 - val_accuracy: 0.9605\n",
            "Epoch 48/50\n",
            "47/47 [==============================] - 11s 237ms/step - loss: 7.7332e-04 - accuracy: 1.0000 - val_loss: 0.1447 - val_accuracy: 0.9605\n",
            "Epoch 49/50\n",
            "47/47 [==============================] - 17s 368ms/step - loss: 7.3361e-04 - accuracy: 1.0000 - val_loss: 0.1448 - val_accuracy: 0.9605\n",
            "Epoch 50/50\n",
            "47/47 [==============================] - 14s 304ms/step - loss: 6.9722e-04 - accuracy: 1.0000 - val_loss: 0.1451 - val_accuracy: 0.9605\n"
          ]
        }
      ]
    },
    {
      "cell_type": "code",
      "source": [
        "plt.plot(ft.history[\"loss\"], label=\"train loss\")\n",
        "plt.plot(ft.history[\"val_loss\"], label=\"val loss\")\n",
        "plt.legend();"
      ],
      "metadata": {
        "colab": {
          "base_uri": "https://localhost:8080/",
          "height": 265
        },
        "id": "FOXGcXHw4wpj",
        "outputId": "184ee552-abb7-4366-daef-1941e6510f3a"
      },
      "execution_count": 17,
      "outputs": [
        {
          "output_type": "display_data",
          "data": {
            "text/plain": [
              "<Figure size 432x288 with 1 Axes>"
            ],
            "image/png": "[encoded data removed]"
          },
          "metadata": {
            "needs_background": "light"
          }
        }
      ]
    },
    {
      "cell_type": "code",
      "source": [
        "plt.plot(ft.history[\"accuracy\"], label=\"train acc\")\n",
        "plt.plot(ft.history[\"val_accuracy\"], label=\"val acc\")\n",
        "plt.legend();"
      ],
      "metadata": {
        "colab": {
          "base_uri": "https://localhost:8080/",
          "height": 265
        },
        "id": "i6EFyWQU5GNh",
        "outputId": "e5cb603e-44c4-49d4-971b-baac3d9b3fde"
      },
      "execution_count": 18,
      "outputs": [
        {
          "output_type": "display_data",
          "data": {
            "text/plain": [
              "<Figure size 432x288 with 1 Axes>"
            ],
            "image/png": "[encoded data removed]"
          },
          "metadata": {
            "needs_background": "light"
          }
        }
      ]
    },
    {
      "cell_type": "code",
      "source": [
        "Ptrain = np.argmax(model.predict(data_train), axis=1)\n",
        "Ptest = np.argmax(model.predict(data_test), axis=1)"
      ],
      "metadata": {
        "colab": {
          "base_uri": "https://localhost:8080/"
        },
        "id": "-CGSiegQ5QfG",
        "outputId": "fc1fd78a-5174-4c01-c775-d5fc2553c400"
      },
      "execution_count": 19,
      "outputs": [
        {
          "output_type": "stream",
          "name": "stdout",
          "text": [
            "47/47 [==============================] - 3s 53ms/step\n",
            "23/23 [==============================] - 2s 80ms/step\n"
          ]
        }
      ]
    },
    {
      "cell_type": "code",
      "source": [
        "print(Ptrain)\n",
        "cm = confusion_matrix(df_train[\"targets\"], Ptrain)\n",
        "cm"
      ],
      "metadata": {
        "colab": {
          "base_uri": "https://localhost:8080/"
        },
        "id": "rbNQFkkgFqF3",
        "outputId": "1444a193-d481-40ee-fa40-e9905a04de3a"
      },
      "execution_count": 21,
      "outputs": [
        {
          "output_type": "stream",
          "name": "stdout",
          "text": [
            "[0 0 2 ... 2 1 1]\n"
          ]
        },
        {
          "output_type": "execute_result",
          "data": {
            "text/plain": [
              "array([[345,   0,   0,   0,   0],\n",
              "       [  0, 256,   0,   0,   0],\n",
              "       [  0,   0, 273,   0,   0],\n",
              "       [  0,   0,   0, 349,   0],\n",
              "       [  0,   0,   0,   0, 267]])"
            ]
          },
          "metadata": {},
          "execution_count": 21
        }
      ]
    },
    {
      "cell_type": "code",
      "source": [
        "cm_test = confusion_matrix(df_test[\"targets\"], Ptest)\n",
        "cm_test"
      ],
      "metadata": {
        "colab": {
          "base_uri": "https://localhost:8080/"
        },
        "id": "LCcQ2SXFGW_1",
        "outputId": "1994960e-a26d-4b4f-c166-03cac7e3476b"
      },
      "execution_count": 22,
      "outputs": [
        {
          "output_type": "execute_result",
          "data": {
            "text/plain": [
              "array([[155,   0,   5,   0,   5],\n",
              "       [  1, 122,   4,   0,   3],\n",
              "       [  3,   0, 139,   1,   1],\n",
              "       [  1,   0,   0, 160,   1],\n",
              "       [  1,   0,   3,   0, 130]])"
            ]
          },
          "metadata": {},
          "execution_count": 22
        }
      ]
    },
    {
      "cell_type": "code",
      "source": [
        "ConfusionMatrixDisplay.from_predictions(df_train[\"targets\"], Ptrain);"
      ],
      "metadata": {
        "colab": {
          "base_uri": "https://localhost:8080/",
          "height": 279
        },
        "id": "b1kgLLHrGrOg",
        "outputId": "6cc2af36-0372-4800-c022-ec3de6801a6a"
      },
      "execution_count": 24,
      "outputs": [
        {
          "output_type": "display_data",
          "data": {
            "text/plain": [
              "<Figure size 432x288 with 2 Axes>"
            ],
            "image/png": "[encoded data removed]"
          },
          "metadata": {
            "needs_background": "light"
          }
        }
      ]
    },
    {
      "cell_type": "code",
      "source": [
        "ConfusionMatrixDisplay.from_predictions(df_test[\"targets\"], Ptest);"
      ],
      "metadata": {
        "colab": {
          "base_uri": "https://localhost:8080/",
          "height": 283
        },
        "id": "K4lVzxNKG6r_",
        "outputId": "2ed41adb-faee-4862-f07c-78a225433a3a"
      },
      "execution_count": 25,
      "outputs": [
        {
          "output_type": "display_data",
          "data": {
            "text/plain": [
              "<Figure size 432x288 with 2 Axes>"
            ],
            "image/png": "[encoded data removed]"
          },
          "metadata": {
            "needs_background": "light"
          }
        }
      ]
    },
    {
      "cell_type": "code",
      "source": [],
      "metadata": {
        "id": "ZFb2r345HIn1"
      },
      "execution_count": null,
      "outputs": []
    }
  ]
}