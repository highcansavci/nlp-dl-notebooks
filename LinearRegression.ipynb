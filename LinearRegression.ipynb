{
  "nbformat": 4,
  "nbformat_minor": 0,
  "metadata": {
    "colab": {
      "provenance": []
    },
    "kernelspec": {
      "name": "python3",
      "display_name": "Python 3"
    },
    "language_info": {
      "name": "python"
    }
  },
  "cells": [
    {
      "cell_type": "code",
      "execution_count": null,
      "metadata": {
        "id": "4lbLDquKaM02"
      },
      "outputs": [],
      "source": [
        "import numpy as np\n",
        "import tensorflow as tf\n",
        "import matplotlib.pyplot as plt\n",
        "\n",
        "from tensorflow.keras.layers import Dense, Input\n",
        "from tensorflow.keras.models import Model\n",
        "from tensorflow.keras.optimizers import Adam"
      ]
    },
    {
      "cell_type": "code",
      "source": [
        "N = 100\n",
        "X = np.random.random(N) * 6 - 3 \n",
        "y = 0.5 * X - 1 + np.random.randn() * 0.5"
      ],
      "metadata": {
        "id": "OCl-48UzakEO"
      },
      "execution_count": null,
      "outputs": []
    },
    {
      "cell_type": "code",
      "source": [
        "plt.scatter(X, y);"
      ],
      "metadata": {
        "colab": {
          "base_uri": "https://localhost:8080/",
          "height": 265
        },
        "id": "OfGc0iMWa8N-",
        "outputId": "d4397c50-93b0-4a2a-921f-53234a8df0d8"
      },
      "execution_count": null,
      "outputs": [
        {
          "output_type": "display_data",
          "data": {
            "text/plain": [
              "<Figure size 432x288 with 1 Axes>"
            ],
            "image/png": "[encoded data removed]"
          },
          "metadata": {
            "needs_background": "light"
          }
        }
      ]
    },
    {
      "cell_type": "code",
      "source": [
        "i = Input(shape=(1, ))\n",
        "x = Dense(1)(i)\n",
        "\n",
        "model = Model(i, x)"
      ],
      "metadata": {
        "id": "vSYUhCyDa-_2"
      },
      "execution_count": null,
      "outputs": []
    },
    {
      "cell_type": "code",
      "source": [
        "model.summary()"
      ],
      "metadata": {
        "colab": {
          "base_uri": "https://localhost:8080/"
        },
        "id": "6uRJglqHbpPB",
        "outputId": "484a51b3-10da-4685-cc1b-f67cab5c5b0f"
      },
      "execution_count": null,
      "outputs": [
        {
          "output_type": "stream",
          "name": "stdout",
          "text": [
            "Model: \"model\"\n",
            "_________________________________________________________________\n",
            " Layer (type)                Output Shape              Param #   \n",
            "=================================================================\n",
            " input_1 (InputLayer)        [(None, 1)]               0         \n",
            "                                                                 \n",
            " dense (Dense)               (None, 1)                 2         \n",
            "                                                                 \n",
            "=================================================================\n",
            "Total params: 2\n",
            "Trainable params: 2\n",
            "Non-trainable params: 0\n",
            "_________________________________________________________________\n"
          ]
        }
      ]
    },
    {
      "cell_type": "code",
      "source": [
        "model.compile(\n",
        "    loss='mse',\n",
        "    optimizer=Adam(learning_rate=0.1),\n",
        "    metrics=['mae']\n",
        ")\n",
        "\n",
        "fit_model = model.fit(\n",
        "    X.reshape(-1, 1), y,\n",
        "    epochs=200,\n",
        "    batch_size=32\n",
        ")"
      ],
      "metadata": {
        "id": "9PHplOO7brru",
        "colab": {
          "base_uri": "https://localhost:8080/"
        },
        "outputId": "8da523b1-a394-43e0-cda3-3bbfa9fbc7eb"
      },
      "execution_count": 21,
      "outputs": [
        {
          "output_type": "stream",
          "name": "stdout",
          "text": [
            "Epoch 1/200\n",
            "4/4 [==============================] - 0s 3ms/step - loss: 0.0083 - mae: 0.0472    \n",
            "Epoch 2/200\n",
            "4/4 [==============================] - 0s 3ms/step - loss: 0.0136 - mae: 0.0968\n",
            "Epoch 3/200\n",
            "4/4 [==============================] - 0s 3ms/step - loss: 0.0052 - mae: 0.0567\n",
            "Epoch 4/200\n",
            "4/4 [==============================] - 0s 3ms/step - loss: 0.0026 - mae: 0.0438\n",
            "Epoch 5/200\n",
            "4/4 [==============================] - 0s 4ms/step - loss: 0.0037 - mae: 0.0527\n",
            "Epoch 6/200\n",
            "4/4 [==============================] - 0s 3ms/step - loss: 0.0020 - mae: 0.0390\n",
            "Epoch 7/200\n",
            "4/4 [==============================] - 0s 4ms/step - loss: 0.0016 - mae: 0.0352\n",
            "Epoch 8/200\n",
            "4/4 [==============================] - 0s 3ms/step - loss: 0.0017 - mae: 0.0382\n",
            "Epoch 9/200\n",
            "4/4 [==============================] - 0s 3ms/step - loss: 6.2801e-04 - mae: 0.0202\n",
            "Epoch 10/200\n",
            "4/4 [==============================] - 0s 3ms/step - loss: 8.4063e-04 - mae: 0.0248\n",
            "Epoch 11/200\n",
            "4/4 [==============================] - 0s 4ms/step - loss: 4.0670e-04 - mae: 0.0176\n",
            "Epoch 12/200\n",
            "4/4 [==============================] - 0s 3ms/step - loss: 1.1950e-04 - mae: 0.0088\n",
            "Epoch 13/200\n",
            "4/4 [==============================] - 0s 5ms/step - loss: 1.7529e-04 - mae: 0.0126\n",
            "Epoch 14/200\n",
            "4/4 [==============================] - 0s 3ms/step - loss: 8.5069e-05 - mae: 0.0084\n",
            "Epoch 15/200\n",
            "4/4 [==============================] - 0s 4ms/step - loss: 4.5637e-05 - mae: 0.0052\n",
            "Epoch 16/200\n",
            "4/4 [==============================] - 0s 4ms/step - loss: 7.1092e-05 - mae: 0.0070\n",
            "Epoch 17/200\n",
            "4/4 [==============================] - 0s 3ms/step - loss: 3.1306e-05 - mae: 0.0045\n",
            "Epoch 18/200\n",
            "4/4 [==============================] - 0s 4ms/step - loss: 1.1412e-05 - mae: 0.0029\n",
            "Epoch 19/200\n",
            "4/4 [==============================] - 0s 3ms/step - loss: 1.1280e-05 - mae: 0.0030\n",
            "Epoch 20/200\n",
            "4/4 [==============================] - 0s 3ms/step - loss: 9.1301e-06 - mae: 0.0029\n",
            "Epoch 21/200\n",
            "4/4 [==============================] - 0s 4ms/step - loss: 5.2862e-06 - mae: 0.0021\n",
            "Epoch 22/200\n",
            "4/4 [==============================] - 0s 3ms/step - loss: 4.5933e-06 - mae: 0.0017\n",
            "Epoch 23/200\n",
            "4/4 [==============================] - 0s 3ms/step - loss: 7.9626e-06 - mae: 0.0020\n",
            "Epoch 24/200\n",
            "4/4 [==============================] - 0s 3ms/step - loss: 5.1371e-06 - mae: 0.0018\n",
            "Epoch 25/200\n",
            "4/4 [==============================] - 0s 3ms/step - loss: 4.1164e-06 - mae: 0.0017\n",
            "Epoch 26/200\n",
            "4/4 [==============================] - 0s 4ms/step - loss: 3.0578e-06 - mae: 0.0014\n",
            "Epoch 27/200\n",
            "4/4 [==============================] - 0s 3ms/step - loss: 2.2512e-06 - mae: 0.0011\n",
            "Epoch 28/200\n",
            "4/4 [==============================] - 0s 3ms/step - loss: 2.3909e-06 - mae: 0.0011\n",
            "Epoch 29/200\n",
            "4/4 [==============================] - 0s 3ms/step - loss: 8.7664e-07 - mae: 7.4201e-04\n",
            "Epoch 30/200\n",
            "4/4 [==============================] - 0s 3ms/step - loss: 7.9566e-07 - mae: 6.9712e-04\n",
            "Epoch 31/200\n",
            "4/4 [==============================] - 0s 3ms/step - loss: 5.6502e-07 - mae: 6.1466e-04\n",
            "Epoch 32/200\n",
            "4/4 [==============================] - 0s 4ms/step - loss: 6.6562e-07 - mae: 6.3938e-04\n",
            "Epoch 33/200\n",
            "4/4 [==============================] - 0s 3ms/step - loss: 4.5689e-07 - mae: 5.5101e-04\n",
            "Epoch 34/200\n",
            "4/4 [==============================] - 0s 3ms/step - loss: 3.4295e-07 - mae: 4.8146e-04\n",
            "Epoch 35/200\n",
            "4/4 [==============================] - 0s 3ms/step - loss: 3.0258e-07 - mae: 3.9894e-04\n",
            "Epoch 36/200\n",
            "4/4 [==============================] - 0s 4ms/step - loss: 8.1248e-08 - mae: 2.1020e-04\n",
            "Epoch 37/200\n",
            "4/4 [==============================] - 0s 4ms/step - loss: 4.9080e-08 - mae: 1.9378e-04\n",
            "Epoch 38/200\n",
            "4/4 [==============================] - 0s 4ms/step - loss: 2.3919e-08 - mae: 1.3066e-04\n",
            "Epoch 39/200\n",
            "4/4 [==============================] - 0s 4ms/step - loss: 1.9014e-08 - mae: 1.1317e-04\n",
            "Epoch 40/200\n",
            "4/4 [==============================] - 0s 4ms/step - loss: 1.8347e-08 - mae: 1.1434e-04\n",
            "Epoch 41/200\n",
            "4/4 [==============================] - 0s 4ms/step - loss: 1.2791e-08 - mae: 1.0393e-04\n",
            "Epoch 42/200\n",
            "4/4 [==============================] - 0s 4ms/step - loss: 1.0595e-08 - mae: 9.3865e-05\n",
            "Epoch 43/200\n",
            "4/4 [==============================] - 0s 4ms/step - loss: 5.3421e-09 - mae: 6.4573e-05\n",
            "Epoch 44/200\n",
            "4/4 [==============================] - 0s 5ms/step - loss: 2.8494e-09 - mae: 4.3950e-05\n",
            "Epoch 45/200\n",
            "4/4 [==============================] - 0s 5ms/step - loss: 2.9286e-09 - mae: 4.3177e-05\n",
            "Epoch 46/200\n",
            "4/4 [==============================] - 0s 4ms/step - loss: 2.3262e-09 - mae: 3.8147e-05\n",
            "Epoch 47/200\n",
            "4/4 [==============================] - 0s 3ms/step - loss: 2.1872e-09 - mae: 3.2458e-05\n",
            "Epoch 48/200\n",
            "4/4 [==============================] - 0s 3ms/step - loss: 8.5708e-10 - mae: 2.4025e-05\n",
            "Epoch 49/200\n",
            "4/4 [==============================] - 0s 4ms/step - loss: 5.5433e-10 - mae: 1.8565e-05\n",
            "Epoch 50/200\n",
            "4/4 [==============================] - 0s 3ms/step - loss: 5.1867e-10 - mae: 1.8171e-05\n",
            "Epoch 51/200\n",
            "4/4 [==============================] - 0s 4ms/step - loss: 4.2801e-10 - mae: 1.5535e-05\n",
            "Epoch 52/200\n",
            "4/4 [==============================] - 0s 3ms/step - loss: 2.4561e-10 - mae: 1.2095e-05\n",
            "Epoch 53/200\n",
            "4/4 [==============================] - 0s 3ms/step - loss: 1.0819e-10 - mae: 8.3587e-06\n",
            "Epoch 54/200\n",
            "4/4 [==============================] - 0s 3ms/step - loss: 5.3866e-11 - mae: 5.8328e-06\n",
            "Epoch 55/200\n",
            "4/4 [==============================] - 0s 3ms/step - loss: 5.4487e-11 - mae: 6.0739e-06\n",
            "Epoch 56/200\n",
            "4/4 [==============================] - 0s 3ms/step - loss: 8.0630e-11 - mae: 7.1368e-06\n",
            "Epoch 57/200\n",
            "4/4 [==============================] - 0s 3ms/step - loss: 6.8967e-11 - mae: 6.7478e-06\n",
            "Epoch 58/200\n",
            "4/4 [==============================] - 0s 3ms/step - loss: 5.6349e-11 - mae: 5.7394e-06\n",
            "Epoch 59/200\n",
            "4/4 [==============================] - 0s 4ms/step - loss: 4.4835e-11 - mae: 5.6148e-06\n",
            "Epoch 60/200\n",
            "4/4 [==============================] - 0s 3ms/step - loss: 4.8421e-11 - mae: 5.6745e-06\n",
            "Epoch 61/200\n",
            "4/4 [==============================] - 0s 3ms/step - loss: 5.1421e-11 - mae: 6.0132e-06\n",
            "Epoch 62/200\n",
            "4/4 [==============================] - 0s 3ms/step - loss: 3.0543e-11 - mae: 4.2555e-06\n",
            "Epoch 63/200\n",
            "4/4 [==============================] - 0s 4ms/step - loss: 1.7533e-11 - mae: 3.1784e-06\n",
            "Epoch 64/200\n",
            "4/4 [==============================] - 0s 3ms/step - loss: 2.8626e-11 - mae: 4.4208e-06\n",
            "Epoch 65/200\n",
            "4/4 [==============================] - 0s 3ms/step - loss: 6.5981e-11 - mae: 6.8956e-06\n",
            "Epoch 66/200\n",
            "4/4 [==============================] - 0s 4ms/step - loss: 5.7221e-11 - mae: 5.6862e-06\n",
            "Epoch 67/200\n",
            "4/4 [==============================] - 0s 3ms/step - loss: 2.4258e-11 - mae: 3.6487e-06\n",
            "Epoch 68/200\n",
            "4/4 [==============================] - 0s 4ms/step - loss: 2.7657e-11 - mae: 4.0596e-06\n",
            "Epoch 69/200\n",
            "4/4 [==============================] - 0s 4ms/step - loss: 4.6378e-11 - mae: 5.5682e-06\n",
            "Epoch 70/200\n",
            "4/4 [==============================] - 0s 3ms/step - loss: 6.5316e-11 - mae: 6.8463e-06\n",
            "Epoch 71/200\n",
            "4/4 [==============================] - 0s 4ms/step - loss: 1.4148e-10 - mae: 1.0497e-05\n",
            "Epoch 72/200\n",
            "4/4 [==============================] - 0s 3ms/step - loss: 2.0365e-10 - mae: 1.1075e-05\n",
            "Epoch 73/200\n",
            "4/4 [==============================] - 0s 3ms/step - loss: 1.9364e-10 - mae: 1.1690e-05\n",
            "Epoch 74/200\n",
            "4/4 [==============================] - 0s 3ms/step - loss: 1.4064e-10 - mae: 1.0473e-05\n",
            "Epoch 75/200\n",
            "4/4 [==============================] - 0s 3ms/step - loss: 5.6751e-11 - mae: 6.0934e-06\n",
            "Epoch 76/200\n",
            "4/4 [==============================] - 0s 3ms/step - loss: 1.2314e-10 - mae: 8.2693e-06\n",
            "Epoch 77/200\n",
            "4/4 [==============================] - 0s 3ms/step - loss: 9.9418e-11 - mae: 6.8661e-06\n",
            "Epoch 78/200\n",
            "4/4 [==============================] - 0s 4ms/step - loss: 6.8206e-11 - mae: 6.7784e-06\n",
            "Epoch 79/200\n",
            "4/4 [==============================] - 0s 3ms/step - loss: 5.9782e-11 - mae: 6.4577e-06\n",
            "Epoch 80/200\n",
            "4/4 [==============================] - 0s 3ms/step - loss: 8.3177e-11 - mae: 7.2136e-06\n",
            "Epoch 81/200\n",
            "4/4 [==============================] - 0s 4ms/step - loss: 3.3455e-11 - mae: 4.7367e-06\n",
            "Epoch 82/200\n",
            "4/4 [==============================] - 0s 3ms/step - loss: 2.1379e-11 - mae: 3.9584e-06\n",
            "Epoch 83/200\n",
            "4/4 [==============================] - 0s 4ms/step - loss: 3.6243e-11 - mae: 4.3699e-06\n",
            "Epoch 84/200\n",
            "4/4 [==============================] - 0s 3ms/step - loss: 1.7965e-11 - mae: 3.2279e-06\n",
            "Epoch 85/200\n",
            "4/4 [==============================] - 0s 3ms/step - loss: 1.4500e-11 - mae: 3.3021e-06\n",
            "Epoch 86/200\n",
            "4/4 [==============================] - 0s 3ms/step - loss: 9.5820e-12 - mae: 2.3759e-06\n",
            "Epoch 87/200\n",
            "4/4 [==============================] - 0s 3ms/step - loss: 2.4766e-12 - mae: 1.2920e-06\n",
            "Epoch 88/200\n",
            "4/4 [==============================] - 0s 3ms/step - loss: 1.1162e-12 - mae: 9.2190e-07\n",
            "Epoch 89/200\n",
            "4/4 [==============================] - 0s 3ms/step - loss: 1.0836e-12 - mae: 8.9569e-07\n",
            "Epoch 90/200\n",
            "4/4 [==============================] - 0s 3ms/step - loss: 4.7267e-13 - mae: 5.4257e-07\n",
            "Epoch 91/200\n",
            "4/4 [==============================] - 0s 3ms/step - loss: 7.9995e-13 - mae: 6.7587e-07\n",
            "Epoch 92/200\n",
            "4/4 [==============================] - 0s 3ms/step - loss: 4.5182e-13 - mae: 5.2801e-07\n",
            "Epoch 93/200\n",
            "4/4 [==============================] - 0s 3ms/step - loss: 6.8802e-13 - mae: 6.9265e-07\n",
            "Epoch 94/200\n",
            "4/4 [==============================] - 0s 3ms/step - loss: 2.5709e-13 - mae: 4.0400e-07\n",
            "Epoch 95/200\n",
            "4/4 [==============================] - 0s 3ms/step - loss: 1.9891e-13 - mae: 3.6104e-07\n",
            "Epoch 96/200\n",
            "4/4 [==============================] - 0s 3ms/step - loss: 1.0602e-13 - mae: 2.7217e-07\n",
            "Epoch 97/200\n",
            "4/4 [==============================] - 0s 4ms/step - loss: 7.2738e-14 - mae: 2.3234e-07\n",
            "Epoch 98/200\n",
            "4/4 [==============================] - 0s 3ms/step - loss: 7.2879e-14 - mae: 2.1499e-07\n",
            "Epoch 99/200\n",
            "4/4 [==============================] - 0s 4ms/step - loss: 7.6558e-14 - mae: 2.2251e-07\n",
            "Epoch 100/200\n",
            "4/4 [==============================] - 0s 4ms/step - loss: 5.7632e-14 - mae: 2.1630e-07\n",
            "Epoch 101/200\n",
            "4/4 [==============================] - 0s 3ms/step - loss: 5.1887e-14 - mae: 1.8746e-07\n",
            "Epoch 102/200\n",
            "4/4 [==============================] - 0s 4ms/step - loss: 3.5106e-14 - mae: 1.5992e-07\n",
            "Epoch 103/200\n",
            "4/4 [==============================] - 0s 3ms/step - loss: 5.5639e-14 - mae: 2.0411e-07\n",
            "Epoch 104/200\n",
            "4/4 [==============================] - 0s 3ms/step - loss: 7.9651e-14 - mae: 2.4396e-07\n",
            "Epoch 105/200\n",
            "4/4 [==============================] - 0s 3ms/step - loss: 4.7790e-14 - mae: 1.7643e-07\n",
            "Epoch 106/200\n",
            "4/4 [==============================] - 0s 3ms/step - loss: 3.8749e-14 - mae: 1.5166e-07\n",
            "Epoch 107/200\n",
            "4/4 [==============================] - 0s 4ms/step - loss: 7.2928e-14 - mae: 1.9591e-07\n",
            "Epoch 108/200\n",
            "4/4 [==============================] - 0s 3ms/step - loss: 1.2836e-13 - mae: 2.8645e-07\n",
            "Epoch 109/200\n",
            "4/4 [==============================] - 0s 3ms/step - loss: 1.0902e-13 - mae: 2.6578e-07\n",
            "Epoch 110/200\n",
            "4/4 [==============================] - 0s 3ms/step - loss: 4.3246e-14 - mae: 1.5092e-07\n",
            "Epoch 111/200\n",
            "4/4 [==============================] - 0s 5ms/step - loss: 8.8433e-14 - mae: 2.3200e-07\n",
            "Epoch 112/200\n",
            "4/4 [==============================] - 0s 3ms/step - loss: 1.2216e-13 - mae: 2.9427e-07\n",
            "Epoch 113/200\n",
            "4/4 [==============================] - 0s 3ms/step - loss: 1.0774e-13 - mae: 2.5396e-07\n",
            "Epoch 114/200\n",
            "4/4 [==============================] - 0s 4ms/step - loss: 5.4569e-14 - mae: 1.6509e-07\n",
            "Epoch 115/200\n",
            "4/4 [==============================] - 0s 4ms/step - loss: 2.1930e-13 - mae: 3.5660e-07\n",
            "Epoch 116/200\n",
            "4/4 [==============================] - 0s 4ms/step - loss: 9.5589e-14 - mae: 2.3377e-07\n",
            "Epoch 117/200\n",
            "4/4 [==============================] - 0s 4ms/step - loss: 8.5259e-14 - mae: 2.0202e-07\n",
            "Epoch 118/200\n",
            "4/4 [==============================] - 0s 3ms/step - loss: 1.0881e-13 - mae: 2.6767e-07\n",
            "Epoch 119/200\n",
            "4/4 [==============================] - 0s 3ms/step - loss: 2.2887e-14 - mae: 1.1552e-07\n",
            "Epoch 120/200\n",
            "4/4 [==============================] - 0s 3ms/step - loss: 1.6903e-14 - mae: 1.0591e-07\n",
            "Epoch 121/200\n",
            "4/4 [==============================] - 0s 4ms/step - loss: 1.1250e-14 - mae: 8.0937e-08\n",
            "Epoch 122/200\n",
            "4/4 [==============================] - 0s 5ms/step - loss: 6.1689e-15 - mae: 4.6375e-08\n",
            "Epoch 123/200\n",
            "4/4 [==============================] - 0s 4ms/step - loss: 8.0713e-15 - mae: 5.6862e-08\n",
            "Epoch 124/200\n",
            "4/4 [==============================] - 0s 4ms/step - loss: 1.1428e-14 - mae: 7.7584e-08\n",
            "Epoch 125/200\n",
            "4/4 [==============================] - 0s 3ms/step - loss: 1.2629e-14 - mae: 8.2203e-08\n",
            "Epoch 126/200\n",
            "4/4 [==============================] - 0s 3ms/step - loss: 1.3259e-14 - mae: 8.0210e-08\n",
            "Epoch 127/200\n",
            "4/4 [==============================] - 0s 3ms/step - loss: 1.2818e-14 - mae: 8.5034e-08\n",
            "Epoch 128/200\n",
            "4/4 [==============================] - 0s 4ms/step - loss: 1.1381e-14 - mae: 7.7379e-08\n",
            "Epoch 129/200\n",
            "4/4 [==============================] - 0s 3ms/step - loss: 1.3348e-14 - mae: 9.4096e-08\n",
            "Epoch 130/200\n",
            "4/4 [==============================] - 0s 3ms/step - loss: 1.5839e-14 - mae: 9.0846e-08\n",
            "Epoch 131/200\n",
            "4/4 [==============================] - 0s 3ms/step - loss: 1.3904e-14 - mae: 8.7735e-08\n",
            "Epoch 132/200\n",
            "4/4 [==============================] - 0s 3ms/step - loss: 3.4832e-14 - mae: 1.4308e-07\n",
            "Epoch 133/200\n",
            "4/4 [==============================] - 0s 3ms/step - loss: 3.1574e-14 - mae: 1.3914e-07\n",
            "Epoch 134/200\n",
            "4/4 [==============================] - 0s 3ms/step - loss: 4.4299e-14 - mae: 1.3929e-07\n",
            "Epoch 135/200\n",
            "4/4 [==============================] - 0s 3ms/step - loss: 1.6164e-14 - mae: 8.6226e-08\n",
            "Epoch 136/200\n",
            "4/4 [==============================] - 0s 3ms/step - loss: 3.1173e-14 - mae: 1.4334e-07\n",
            "Epoch 137/200\n",
            "4/4 [==============================] - 0s 4ms/step - loss: 2.9431e-14 - mae: 1.3059e-07\n",
            "Epoch 138/200\n",
            "4/4 [==============================] - 0s 4ms/step - loss: 3.7295e-14 - mae: 1.6365e-07\n",
            "Epoch 139/200\n",
            "4/4 [==============================] - 0s 4ms/step - loss: 8.0418e-14 - mae: 2.2214e-07\n",
            "Epoch 140/200\n",
            "4/4 [==============================] - 0s 4ms/step - loss: 6.6549e-14 - mae: 2.0841e-07\n",
            "Epoch 141/200\n",
            "4/4 [==============================] - 0s 3ms/step - loss: 2.7523e-14 - mae: 1.2721e-07\n",
            "Epoch 142/200\n",
            "4/4 [==============================] - 0s 3ms/step - loss: 1.2853e-14 - mae: 8.7968e-08\n",
            "Epoch 143/200\n",
            "4/4 [==============================] - 0s 4ms/step - loss: 2.9480e-14 - mae: 1.3073e-07\n",
            "Epoch 144/200\n",
            "4/4 [==============================] - 0s 4ms/step - loss: 6.5656e-14 - mae: 1.9539e-07\n",
            "Epoch 145/200\n",
            "4/4 [==============================] - 0s 3ms/step - loss: 7.6057e-14 - mae: 2.2552e-07\n",
            "Epoch 146/200\n",
            "4/4 [==============================] - 0s 4ms/step - loss: 1.3139e-14 - mae: 7.8459e-08\n",
            "Epoch 147/200\n",
            "4/4 [==============================] - 0s 3ms/step - loss: 1.2700e-14 - mae: 7.8925e-08\n",
            "Epoch 148/200\n",
            "4/4 [==============================] - 0s 3ms/step - loss: 1.1237e-14 - mae: 8.1188e-08\n",
            "Epoch 149/200\n",
            "4/4 [==============================] - 0s 3ms/step - loss: 1.1329e-14 - mae: 7.5898e-08\n",
            "Epoch 150/200\n",
            "4/4 [==============================] - 0s 3ms/step - loss: 4.0101e-14 - mae: 1.5435e-07\n",
            "Epoch 151/200\n",
            "4/4 [==============================] - 0s 4ms/step - loss: 7.1630e-14 - mae: 2.3369e-07\n",
            "Epoch 152/200\n",
            "4/4 [==============================] - 0s 5ms/step - loss: 1.3454e-13 - mae: 3.0785e-07\n",
            "Epoch 153/200\n",
            "4/4 [==============================] - 0s 4ms/step - loss: 1.6931e-13 - mae: 3.1965e-07\n",
            "Epoch 154/200\n",
            "4/4 [==============================] - 0s 3ms/step - loss: 1.0073e-13 - mae: 2.7145e-07\n",
            "Epoch 155/200\n",
            "4/4 [==============================] - 0s 3ms/step - loss: 1.1200e-13 - mae: 2.8786e-07\n",
            "Epoch 156/200\n",
            "4/4 [==============================] - 0s 3ms/step - loss: 1.9988e-13 - mae: 3.7574e-07\n",
            "Epoch 157/200\n",
            "4/4 [==============================] - 0s 4ms/step - loss: 1.3906e-13 - mae: 2.9029e-07\n",
            "Epoch 158/200\n",
            "4/4 [==============================] - 0s 3ms/step - loss: 1.6786e-13 - mae: 2.8539e-07\n",
            "Epoch 159/200\n",
            "4/4 [==============================] - 0s 3ms/step - loss: 1.1629e-13 - mae: 2.7006e-07\n",
            "Epoch 160/200\n",
            "4/4 [==============================] - 0s 4ms/step - loss: 7.8253e-14 - mae: 2.2836e-07\n",
            "Epoch 161/200\n",
            "4/4 [==============================] - 0s 3ms/step - loss: 2.7529e-14 - mae: 1.3258e-07\n",
            "Epoch 162/200\n",
            "4/4 [==============================] - 0s 3ms/step - loss: 2.8855e-14 - mae: 1.3067e-07\n",
            "Epoch 163/200\n",
            "4/4 [==============================] - 0s 3ms/step - loss: 2.0699e-14 - mae: 1.1762e-07\n",
            "Epoch 164/200\n",
            "4/4 [==============================] - 0s 3ms/step - loss: 1.9444e-14 - mae: 1.1269e-07\n",
            "Epoch 165/200\n",
            "4/4 [==============================] - 0s 4ms/step - loss: 1.1287e-14 - mae: 7.7370e-08\n",
            "Epoch 166/200\n",
            "4/4 [==============================] - 0s 3ms/step - loss: 9.9859e-15 - mae: 7.1512e-08\n",
            "Epoch 167/200\n",
            "4/4 [==============================] - 0s 3ms/step - loss: 1.3028e-14 - mae: 7.5777e-08\n",
            "Epoch 168/200\n",
            "4/4 [==============================] - 0s 3ms/step - loss: 7.3531e-14 - mae: 2.1493e-07\n",
            "Epoch 169/200\n",
            "4/4 [==============================] - 0s 3ms/step - loss: 4.4453e-13 - mae: 4.8636e-07\n",
            "Epoch 170/200\n",
            "4/4 [==============================] - 0s 4ms/step - loss: 1.6914e-12 - mae: 1.0797e-06\n",
            "Epoch 171/200\n",
            "4/4 [==============================] - 0s 3ms/step - loss: 1.0228e-11 - mae: 2.6735e-06\n",
            "Epoch 172/200\n",
            "4/4 [==============================] - 0s 3ms/step - loss: 1.8905e-12 - mae: 1.0299e-06\n",
            "Epoch 173/200\n",
            "4/4 [==============================] - 0s 3ms/step - loss: 2.5264e-12 - mae: 1.2800e-06\n",
            "Epoch 174/200\n",
            "4/4 [==============================] - 0s 5ms/step - loss: 1.3770e-12 - mae: 8.6147e-07\n",
            "Epoch 175/200\n",
            "4/4 [==============================] - 0s 3ms/step - loss: 5.0443e-13 - mae: 5.9870e-07\n",
            "Epoch 176/200\n",
            "4/4 [==============================] - 0s 3ms/step - loss: 2.7848e-13 - mae: 4.7931e-07\n",
            "Epoch 177/200\n",
            "4/4 [==============================] - 0s 3ms/step - loss: 3.9195e-13 - mae: 5.1656e-07\n",
            "Epoch 178/200\n",
            "4/4 [==============================] - 0s 3ms/step - loss: 3.0349e-13 - mae: 3.9515e-07\n",
            "Epoch 179/200\n",
            "4/4 [==============================] - 0s 3ms/step - loss: 3.5186e-13 - mae: 5.1406e-07\n",
            "Epoch 180/200\n",
            "4/4 [==============================] - 0s 3ms/step - loss: 3.1467e-13 - mae: 4.7909e-07\n",
            "Epoch 181/200\n",
            "4/4 [==============================] - 0s 5ms/step - loss: 2.8357e-13 - mae: 4.2077e-07\n",
            "Epoch 182/200\n",
            "4/4 [==============================] - 0s 4ms/step - loss: 2.8374e-13 - mae: 4.2760e-07\n",
            "Epoch 183/200\n",
            "4/4 [==============================] - 0s 3ms/step - loss: 1.5707e-13 - mae: 3.4702e-07\n",
            "Epoch 184/200\n",
            "4/4 [==============================] - 0s 3ms/step - loss: 1.2576e-13 - mae: 2.8383e-07\n",
            "Epoch 185/200\n",
            "4/4 [==============================] - 0s 4ms/step - loss: 1.3790e-13 - mae: 3.0523e-07\n",
            "Epoch 186/200\n",
            "4/4 [==============================] - 0s 3ms/step - loss: 4.5633e-14 - mae: 1.5918e-07\n",
            "Epoch 187/200\n",
            "4/4 [==============================] - 0s 4ms/step - loss: 7.0053e-14 - mae: 2.0110e-07\n",
            "Epoch 188/200\n",
            "4/4 [==============================] - 0s 3ms/step - loss: 6.3317e-14 - mae: 2.2321e-07\n",
            "Epoch 189/200\n",
            "4/4 [==============================] - 0s 3ms/step - loss: 7.7510e-14 - mae: 2.2960e-07\n",
            "Epoch 190/200\n",
            "4/4 [==============================] - 0s 3ms/step - loss: 1.0495e-13 - mae: 2.6025e-07\n",
            "Epoch 191/200\n",
            "4/4 [==============================] - 0s 3ms/step - loss: 2.0413e-13 - mae: 3.7066e-07\n",
            "Epoch 192/200\n",
            "4/4 [==============================] - 0s 3ms/step - loss: 6.1472e-14 - mae: 1.9710e-07\n",
            "Epoch 193/200\n",
            "4/4 [==============================] - 0s 3ms/step - loss: 8.7076e-14 - mae: 2.5402e-07\n",
            "Epoch 194/200\n",
            "4/4 [==============================] - 0s 3ms/step - loss: 1.2573e-14 - mae: 8.6701e-08\n",
            "Epoch 195/200\n",
            "4/4 [==============================] - 0s 3ms/step - loss: 2.1615e-14 - mae: 1.1554e-07\n",
            "Epoch 196/200\n",
            "4/4 [==============================] - 0s 3ms/step - loss: 9.1965e-15 - mae: 6.3959e-08\n",
            "Epoch 197/200\n",
            "4/4 [==============================] - 0s 4ms/step - loss: 5.9064e-15 - mae: 5.3500e-08\n",
            "Epoch 198/200\n",
            "4/4 [==============================] - 0s 3ms/step - loss: 3.7209e-15 - mae: 3.7155e-08\n",
            "Epoch 199/200\n",
            "4/4 [==============================] - 0s 4ms/step - loss: 9.9209e-15 - mae: 6.9556e-08\n",
            "Epoch 200/200\n",
            "4/4 [==============================] - 0s 4ms/step - loss: 2.0818e-14 - mae: 1.0275e-07\n"
          ]
        }
      ]
    },
    {
      "cell_type": "code",
      "source": [
        "plt.plot(fit_model.history[\"loss\"], label=\"loss\")\n",
        "plt.legend();"
      ],
      "metadata": {
        "colab": {
          "base_uri": "https://localhost:8080/",
          "height": 266
        },
        "id": "bEu2nB7pd2Eb",
        "outputId": "ed41c0c3-aea0-44ae-9d3f-6d7c1cd26c3a"
      },
      "execution_count": 23,
      "outputs": [
        {
          "output_type": "display_data",
          "data": {
            "text/plain": [
              "<Figure size 432x288 with 1 Axes>"
            ],
            "image/png": "[encoded data removed]"
          },
          "metadata": {
            "needs_background": "light"
          }
        }
      ]
    },
    {
      "cell_type": "code",
      "source": [
        "plt.plot(fit_model.history[\"mae\"], label=\"mae\")\n",
        "plt.legend();"
      ],
      "metadata": {
        "colab": {
          "base_uri": "https://localhost:8080/",
          "height": 266
        },
        "id": "asyjgwnveAm2",
        "outputId": "7a15d2e9-fabe-46e6-a200-92e3abadea63"
      },
      "execution_count": 25,
      "outputs": [
        {
          "output_type": "display_data",
          "data": {
            "text/plain": [
              "<Figure size 432x288 with 1 Axes>"
            ],
            "image/png": "[encoded data removed]"
          },
          "metadata": {
            "needs_background": "light"
          }
        }
      ]
    },
    {
      "cell_type": "code",
      "source": [
        "Xtest = np.linspace(-3, 3, 20).reshape(-1, 1)\n",
        "ptest = model.predict(Xtest)"
      ],
      "metadata": {
        "colab": {
          "base_uri": "https://localhost:8080/"
        },
        "id": "hZdtg-S1e8XH",
        "outputId": "fd6e9a31-ebab-4bd9-9189-b0d6cdda0bc3"
      },
      "execution_count": 26,
      "outputs": [
        {
          "output_type": "stream",
          "name": "stdout",
          "text": [
            "1/1 [==============================] - 0s 151ms/step\n"
          ]
        }
      ]
    },
    {
      "cell_type": "code",
      "source": [
        "plt.scatter(X,y)\n",
        "plt.plot(Xtest, ptest);"
      ],
      "metadata": {
        "colab": {
          "base_uri": "https://localhost:8080/",
          "height": 265
        },
        "id": "zEZV-FKxfI8W",
        "outputId": "91fe94bc-48fb-4859-9387-78e17d7e3e6d"
      },
      "execution_count": 28,
      "outputs": [
        {
          "output_type": "display_data",
          "data": {
            "text/plain": [
              "<Figure size 432x288 with 1 Axes>"
            ],
            "image/png": "[encoded data removed]"
          },
          "metadata": {
            "needs_background": "light"
          }
        }
      ]
    },
    {
      "cell_type": "code",
      "source": [
        "model.layers"
      ],
      "metadata": {
        "colab": {
          "base_uri": "https://localhost:8080/"
        },
        "id": "XFgt26p7fiIG",
        "outputId": "897083ec-57e4-4aaa-dcf6-1e4888b3de27"
      },
      "execution_count": 29,
      "outputs": [
        {
          "output_type": "execute_result",
          "data": {
            "text/plain": [
              "[<keras.engine.input_layer.InputLayer at 0x7f067051d520>,\n",
              " <keras.layers.core.dense.Dense at 0x7f0670518ee0>]"
            ]
          },
          "metadata": {},
          "execution_count": 29
        }
      ]
    },
    {
      "cell_type": "code",
      "source": [
        "model.layers[1].get_weights()"
      ],
      "metadata": {
        "colab": {
          "base_uri": "https://localhost:8080/"
        },
        "id": "haQFRPtwf3Cf",
        "outputId": "4cc7e9f3-9aab-4568-f0e7-6c007c92ea01"
      },
      "execution_count": 30,
      "outputs": [
        {
          "output_type": "execute_result",
          "data": {
            "text/plain": [
              "[array([[0.50000006]], dtype=float32), array([-0.8361188], dtype=float32)]"
            ]
          },
          "metadata": {},
          "execution_count": 30
        }
      ]
    },
    {
      "cell_type": "code",
      "source": [],
      "metadata": {
        "id": "Rs5zitCtf8a2"
      },
      "execution_count": null,
      "outputs": []
    }
  ]
}