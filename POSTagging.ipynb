{
  "nbformat": 4,
  "nbformat_minor": 0,
  "metadata": {
    "colab": {
      "provenance": []
    },
    "kernelspec": {
      "name": "python3",
      "display_name": "Python 3"
    },
    "language_info": {
      "name": "python"
    }
  },
  "cells": [
    {
      "cell_type": "code",
      "execution_count": 103,
      "metadata": {
        "id": "sAx6g-6em3lC"
      },
      "outputs": [],
      "source": [
        "import nltk\n",
        "from nltk.corpus import brown"
      ]
    },
    {
      "cell_type": "code",
      "source": [
        "nltk.download(\"brown\")\n",
        "nltk.download(\"universal_tagset\")"
      ],
      "metadata": {
        "colab": {
          "base_uri": "https://localhost:8080/"
        },
        "id": "GN3bVPVOm_HC",
        "outputId": "bbc63a8e-13e4-48dd-81cf-d0c1fbf2f0aa"
      },
      "execution_count": 104,
      "outputs": [
        {
          "output_type": "stream",
          "name": "stderr",
          "text": [
            "[nltk_data] Downloading package brown to /root/nltk_data...\n",
            "[nltk_data]   Package brown is already up-to-date!\n",
            "[nltk_data] Downloading package universal_tagset to /root/nltk_data...\n",
            "[nltk_data]   Package universal_tagset is already up-to-date!\n"
          ]
        },
        {
          "output_type": "execute_result",
          "data": {
            "text/plain": [
              "True"
            ]
          },
          "metadata": {},
          "execution_count": 104
        }
      ]
    },
    {
      "cell_type": "code",
      "source": [
        "corpus = brown.tagged_sents(tagset=\"universal\")"
      ],
      "metadata": {
        "id": "EZtGM5HRnF-S"
      },
      "execution_count": 105,
      "outputs": []
    },
    {
      "cell_type": "code",
      "source": [
        "corpus"
      ],
      "metadata": {
        "colab": {
          "base_uri": "https://localhost:8080/"
        },
        "id": "Tas8MyQYnPCR",
        "outputId": "ddb8fbff-a592-4ffd-af92-70a07eb0d0a5"
      },
      "execution_count": 106,
      "outputs": [
        {
          "output_type": "execute_result",
          "data": {
            "text/plain": [
              "[[('The', 'DET'), ('Fulton', 'NOUN'), ('County', 'NOUN'), ('Grand', 'ADJ'), ('Jury', 'NOUN'), ('said', 'VERB'), ('Friday', 'NOUN'), ('an', 'DET'), ('investigation', 'NOUN'), ('of', 'ADP'), (\"Atlanta's\", 'NOUN'), ('recent', 'ADJ'), ('primary', 'NOUN'), ('election', 'NOUN'), ('produced', 'VERB'), ('``', '.'), ('no', 'DET'), ('evidence', 'NOUN'), (\"''\", '.'), ('that', 'ADP'), ('any', 'DET'), ('irregularities', 'NOUN'), ('took', 'VERB'), ('place', 'NOUN'), ('.', '.')], [('The', 'DET'), ('jury', 'NOUN'), ('further', 'ADV'), ('said', 'VERB'), ('in', 'ADP'), ('term-end', 'NOUN'), ('presentments', 'NOUN'), ('that', 'ADP'), ('the', 'DET'), ('City', 'NOUN'), ('Executive', 'ADJ'), ('Committee', 'NOUN'), (',', '.'), ('which', 'DET'), ('had', 'VERB'), ('over-all', 'ADJ'), ('charge', 'NOUN'), ('of', 'ADP'), ('the', 'DET'), ('election', 'NOUN'), (',', '.'), ('``', '.'), ('deserves', 'VERB'), ('the', 'DET'), ('praise', 'NOUN'), ('and', 'CONJ'), ('thanks', 'NOUN'), ('of', 'ADP'), ('the', 'DET'), ('City', 'NOUN'), ('of', 'ADP'), ('Atlanta', 'NOUN'), (\"''\", '.'), ('for', 'ADP'), ('the', 'DET'), ('manner', 'NOUN'), ('in', 'ADP'), ('which', 'DET'), ('the', 'DET'), ('election', 'NOUN'), ('was', 'VERB'), ('conducted', 'VERB'), ('.', '.')], ...]"
            ]
          },
          "metadata": {},
          "execution_count": 106
        }
      ]
    },
    {
      "cell_type": "code",
      "source": [
        "len(corpus)"
      ],
      "metadata": {
        "colab": {
          "base_uri": "https://localhost:8080/"
        },
        "id": "IgTXFfnpnW2m",
        "outputId": "411d943d-718e-4e8c-8394-ee0b0245c4c7"
      },
      "execution_count": 107,
      "outputs": [
        {
          "output_type": "execute_result",
          "data": {
            "text/plain": [
              "57340"
            ]
          },
          "metadata": {},
          "execution_count": 107
        }
      ]
    },
    {
      "cell_type": "code",
      "source": [
        "inputs = []\n",
        "targets = []\n",
        "\n",
        "for sentence_tag_pairs in corpus:\n",
        "  tokens = []\n",
        "  target = []\n",
        "  for token, tag in sentence_tag_pairs:\n",
        "    tokens.append(token)\n",
        "    target.append(tag)\n",
        "  inputs.append(tokens)\n",
        "  targets.append(target)"
      ],
      "metadata": {
        "id": "B9XSWQubnbxw"
      },
      "execution_count": 108,
      "outputs": []
    },
    {
      "cell_type": "code",
      "source": [
        "import numpy as np\n",
        "import pandas as pd\n",
        "import tensorflow as tf\n",
        "import matplotlib.pyplot as plt\n",
        "from sklearn.model_selection import train_test_split\n",
        "\n",
        "from tensorflow.keras.preprocessing.text import Tokenizer\n",
        "from tensorflow.keras.preprocessing.sequence import pad_sequences\n",
        "from tensorflow.keras.layers import Dense, Input, Bidirectional, LSTM, GRU, SimpleRNN, Embedding\n",
        "from tensorflow.keras.models import Model \n",
        "from tensorflow.keras.losses import SparseCategoricalCrossentropy"
      ],
      "metadata": {
        "id": "KDNONyazoDiD"
      },
      "execution_count": 109,
      "outputs": []
    },
    {
      "cell_type": "code",
      "source": [
        "train_inputs, test_inputs, train_targets, test_targets = train_test_split(inputs, targets, test_size=0.33)"
      ],
      "metadata": {
        "id": "gAyrxH0GpMSI"
      },
      "execution_count": 110,
      "outputs": []
    },
    {
      "cell_type": "code",
      "source": [
        "MAX_VOCAB_SIZE = None\n",
        "word_tokenizer = Tokenizer(\n",
        "    num_words=MAX_VOCAB_SIZE,\n",
        "    lower=False,\n",
        "    oov_token=\"UNK\"\n",
        ")\n",
        "\n",
        "word_tokenizer.fit_on_texts(train_inputs)\n",
        "train_inputs_int = word_tokenizer.texts_to_sequences(train_inputs)\n",
        "test_inputs_int = word_tokenizer.texts_to_sequences(test_inputs)"
      ],
      "metadata": {
        "id": "TUwie9fRpZPe"
      },
      "execution_count": 111,
      "outputs": []
    },
    {
      "cell_type": "code",
      "source": [
        "word2idx = word_tokenizer.word_index\n",
        "V = len(word2idx)\n",
        "print(f\"Found {V} unique tokens.\")"
      ],
      "metadata": {
        "colab": {
          "base_uri": "https://localhost:8080/"
        },
        "id": "8yCDhw279_6u",
        "outputId": "db28fd01-19ec-48a5-af08-b33f83ec677a"
      },
      "execution_count": 112,
      "outputs": [
        {
          "output_type": "stream",
          "name": "stdout",
          "text": [
            "Found 46449 unique tokens.\n"
          ]
        }
      ]
    },
    {
      "cell_type": "code",
      "source": [
        "def flatten(list_of_lists):\n",
        "  flattened = [val for sublist in list_of_lists for val in sublist]\n",
        "  return flattened"
      ],
      "metadata": {
        "id": "C1S7c1X4qM1R"
      },
      "execution_count": 113,
      "outputs": []
    },
    {
      "cell_type": "code",
      "source": [
        "all_train_targets = set(flatten(train_targets))\n",
        "all_train_targets"
      ],
      "metadata": {
        "colab": {
          "base_uri": "https://localhost:8080/"
        },
        "id": "D0qn13bnrHg3",
        "outputId": "07bf43ad-9bc3-4675-9743-0673ab972218"
      },
      "execution_count": 114,
      "outputs": [
        {
          "output_type": "execute_result",
          "data": {
            "text/plain": [
              "{'.',\n",
              " 'ADJ',\n",
              " 'ADP',\n",
              " 'ADV',\n",
              " 'CONJ',\n",
              " 'DET',\n",
              " 'NOUN',\n",
              " 'NUM',\n",
              " 'PRON',\n",
              " 'PRT',\n",
              " 'VERB',\n",
              " 'X'}"
            ]
          },
          "metadata": {},
          "execution_count": 114
        }
      ]
    },
    {
      "cell_type": "code",
      "source": [
        "all_test_targets = set(flatten(test_targets))\n",
        "all_test_targets"
      ],
      "metadata": {
        "colab": {
          "base_uri": "https://localhost:8080/"
        },
        "id": "02_upoz3rOCA",
        "outputId": "05ea9b1a-47e0-47e4-e50f-0c6b4f2a0b8c"
      },
      "execution_count": 115,
      "outputs": [
        {
          "output_type": "execute_result",
          "data": {
            "text/plain": [
              "{'.',\n",
              " 'ADJ',\n",
              " 'ADP',\n",
              " 'ADV',\n",
              " 'CONJ',\n",
              " 'DET',\n",
              " 'NOUN',\n",
              " 'NUM',\n",
              " 'PRON',\n",
              " 'PRT',\n",
              " 'VERB',\n",
              " 'X'}"
            ]
          },
          "metadata": {},
          "execution_count": 115
        }
      ]
    },
    {
      "cell_type": "code",
      "source": [
        "all_train_targets == all_test_targets"
      ],
      "metadata": {
        "colab": {
          "base_uri": "https://localhost:8080/"
        },
        "id": "2kw0HTA4rVkW",
        "outputId": "ad2e712b-8762-4b16-8122-bd25ca9a9b94"
      },
      "execution_count": 116,
      "outputs": [
        {
          "output_type": "execute_result",
          "data": {
            "text/plain": [
              "True"
            ]
          },
          "metadata": {},
          "execution_count": 116
        }
      ]
    },
    {
      "cell_type": "code",
      "source": [
        "tag_tokenizer = Tokenizer()\n",
        "tag_tokenizer.fit_on_texts(train_targets)\n",
        "train_targets_int = tag_tokenizer.texts_to_sequences(train_targets)\n",
        "test_targets_int = tag_tokenizer.texts_to_sequences(test_targets)"
      ],
      "metadata": {
        "id": "z46dCUyT3g7z"
      },
      "execution_count": 117,
      "outputs": []
    },
    {
      "cell_type": "code",
      "source": [
        "train_targets_int_unpadded = train_targets_int\n",
        "test_targets_int_unpadded = test_targets_int"
      ],
      "metadata": {
        "id": "QcXvY5YY4Vgy"
      },
      "execution_count": 118,
      "outputs": []
    },
    {
      "cell_type": "code",
      "source": [
        "T = max(max(len(sent) for sent in train_targets), max(len(sent) for sent in test_targets))\n",
        "T"
      ],
      "metadata": {
        "colab": {
          "base_uri": "https://localhost:8080/"
        },
        "id": "WLT5_dpb4c_q",
        "outputId": "34b5e4fa-9f8d-4fdd-db77-0d36ad1d6a28"
      },
      "execution_count": 119,
      "outputs": [
        {
          "output_type": "execute_result",
          "data": {
            "text/plain": [
              "180"
            ]
          },
          "metadata": {},
          "execution_count": 119
        }
      ]
    },
    {
      "cell_type": "code",
      "source": [
        "train_inputs_int = pad_sequences(train_inputs_int, maxlen=T)\n",
        "print(f\"Shape of data train tensor: {train_inputs_int.shape}\")"
      ],
      "metadata": {
        "colab": {
          "base_uri": "https://localhost:8080/"
        },
        "id": "TskuXhzi42xQ",
        "outputId": "af4dbb07-dcbd-4ed1-dc20-1e5cea61005b"
      },
      "execution_count": 120,
      "outputs": [
        {
          "output_type": "stream",
          "name": "stdout",
          "text": [
            "Shape of data train tensor: (38417, 180)\n"
          ]
        }
      ]
    },
    {
      "cell_type": "code",
      "source": [
        "test_inputs_int = pad_sequences(test_inputs_int, maxlen=T)\n",
        "print(f\"Shape of data test tensor: {test_inputs_int.shape}\")"
      ],
      "metadata": {
        "colab": {
          "base_uri": "https://localhost:8080/"
        },
        "id": "kMCqTkLI5eBz",
        "outputId": "b3eefc6e-109b-4726-b79e-c83e67e8a7e5"
      },
      "execution_count": 121,
      "outputs": [
        {
          "output_type": "stream",
          "name": "stdout",
          "text": [
            "Shape of data test tensor: (18923, 180)\n"
          ]
        }
      ]
    },
    {
      "cell_type": "code",
      "source": [
        "train_targets_int = pad_sequences(train_targets_int, maxlen=T)\n",
        "print(f\"Shape of train targets tensor: {train_targets_int.shape}\")"
      ],
      "metadata": {
        "colab": {
          "base_uri": "https://localhost:8080/"
        },
        "id": "VcAixPAe6TQx",
        "outputId": "bbb74323-b2bd-4b0d-9e4f-dc8c58a3c3d5"
      },
      "execution_count": 122,
      "outputs": [
        {
          "output_type": "stream",
          "name": "stdout",
          "text": [
            "Shape of train targets tensor: (38417, 180)\n"
          ]
        }
      ]
    },
    {
      "cell_type": "code",
      "source": [
        "test_targets_int = pad_sequences(test_targets_int, maxlen=T)\n",
        "print(f\"Shape of test targets tensor: {test_targets_int.shape}\")"
      ],
      "metadata": {
        "colab": {
          "base_uri": "https://localhost:8080/"
        },
        "id": "L_QN6nXc6eSi",
        "outputId": "cf738ca8-5e8f-4c8f-fa5a-05be04871081"
      },
      "execution_count": 123,
      "outputs": [
        {
          "output_type": "stream",
          "name": "stdout",
          "text": [
            "Shape of test targets tensor: (18923, 180)\n"
          ]
        }
      ]
    },
    {
      "cell_type": "code",
      "source": [
        "K = len(tag_tokenizer.word_index) + 1\n",
        "K"
      ],
      "metadata": {
        "colab": {
          "base_uri": "https://localhost:8080/"
        },
        "id": "s6maK2pk6mGw",
        "outputId": "22491441-7e28-46f1-b12e-3c41992200bb"
      },
      "execution_count": 124,
      "outputs": [
        {
          "output_type": "execute_result",
          "data": {
            "text/plain": [
              "13"
            ]
          },
          "metadata": {},
          "execution_count": 124
        }
      ]
    },
    {
      "cell_type": "code",
      "source": [
        "D = 32\n",
        "\n",
        "i = Input(shape=(T,))\n",
        "x = Embedding(V + 1, D, mask_zero=True)(i)\n",
        "x = Bidirectional(LSTM(32, return_sequences=True))(x)\n",
        "x = Dense(K)(x)\n",
        "\n",
        "model = Model(i, x)"
      ],
      "metadata": {
        "id": "-LclZCs69i0V"
      },
      "execution_count": 125,
      "outputs": []
    },
    {
      "cell_type": "code",
      "source": [
        "model.compile(\n",
        "    loss=SparseCategoricalCrossentropy(from_logits=True),\n",
        "    optimizer=\"adam\",\n",
        "    metrics=[\"accuracy\"]\n",
        ")\n",
        "\n",
        "ft = model.fit(\n",
        "    train_inputs_int, train_targets_int,\n",
        "    epochs=5,\n",
        "    validation_data=(test_inputs_int, test_targets_int)\n",
        ")"
      ],
      "metadata": {
        "colab": {
          "base_uri": "https://localhost:8080/"
        },
        "id": "WTZicHeV_OUm",
        "outputId": "f6bf48ef-4867-4dbf-9150-6c8d881b17e1"
      },
      "execution_count": 126,
      "outputs": [
        {
          "output_type": "stream",
          "name": "stdout",
          "text": [
            "Epoch 1/5\n",
            "1201/1201 [==============================] - 282s 226ms/step - loss: 0.0549 - accuracy: 0.8543 - val_loss: 0.0132 - val_accuracy: 0.9628\n",
            "Epoch 2/5\n",
            "1201/1201 [==============================] - 269s 224ms/step - loss: 0.0084 - accuracy: 0.9769 - val_loss: 0.0106 - val_accuracy: 0.9696\n",
            "Epoch 3/5\n",
            "1201/1201 [==============================] - 271s 226ms/step - loss: 0.0052 - accuracy: 0.9853 - val_loss: 0.0105 - val_accuracy: 0.9708\n",
            "Epoch 4/5\n",
            "1201/1201 [==============================] - 266s 222ms/step - loss: 0.0039 - accuracy: 0.9891 - val_loss: 0.0102 - val_accuracy: 0.9722\n",
            "Epoch 5/5\n",
            "1201/1201 [==============================] - 272s 226ms/step - loss: 0.0031 - accuracy: 0.9914 - val_loss: 0.0105 - val_accuracy: 0.9720\n"
          ]
        }
      ]
    },
    {
      "cell_type": "code",
      "source": [
        "plt.plot(ft.history[\"loss\"], label=\"train loss\")\n",
        "plt.plot(ft.history[\"val_loss\"], label=\"val loss\")\n",
        "plt.legend();"
      ],
      "metadata": {
        "colab": {
          "base_uri": "https://localhost:8080/",
          "height": 265
        },
        "id": "TnOXP63yBAjX",
        "outputId": "17970526-6429-4ad2-fcd9-58daefcc3edf"
      },
      "execution_count": 127,
      "outputs": [
        {
          "output_type": "display_data",
          "data": {
            "text/plain": [
              "<Figure size 432x288 with 1 Axes>"
            ],
            "image/png": "[encoded data removed]"
          },
          "metadata": {
            "needs_background": "light"
          }
        }
      ]
    },
    {
      "cell_type": "code",
      "source": [
        "plt.plot(ft.history[\"accuracy\"], label=\"train acc\")\n",
        "plt.plot(ft.history[\"val_accuracy\"], label=\"val acc\")\n",
        "plt.legend();"
      ],
      "metadata": {
        "colab": {
          "base_uri": "https://localhost:8080/",
          "height": 265
        },
        "id": "5PKWPRzvBZv6",
        "outputId": "b956cc91-2ffc-41de-8a14-09ea3ec79d8d"
      },
      "execution_count": 128,
      "outputs": [
        {
          "output_type": "display_data",
          "data": {
            "text/plain": [
              "<Figure size 432x288 with 1 Axes>"
            ],
            "image/png": "[encoded data removed]"
          },
          "metadata": {
            "needs_background": "light"
          }
        }
      ]
    },
    {
      "cell_type": "code",
      "source": [
        "train_lengths = []\n",
        "for sentence in train_inputs:\n",
        "  train_lengths.append(len(sentence))\n",
        "\n"
      ],
      "metadata": {
        "id": "T5bGT2CTBrvk"
      },
      "execution_count": 129,
      "outputs": []
    },
    {
      "cell_type": "code",
      "source": [
        "test_lengths = []\n",
        "for sentence in test_inputs:\n",
        "  test_lengths.append(len(sentence))"
      ],
      "metadata": {
        "id": "ShZZR4biCQlQ"
      },
      "execution_count": 130,
      "outputs": []
    },
    {
      "cell_type": "code",
      "source": [
        "train_probs = model.predict(train_inputs_int) # N x T x K\n",
        "train_predictions = []\n",
        "for probs,length in zip(train_probs, train_lengths):\n",
        "  probs_ = probs[-length:]\n",
        "  preds = np.argmax(probs_, axis=1)\n",
        "  train_predictions.append(preds)\n",
        "\n",
        "flat_train_predictions = flatten(train_predictions)\n",
        "flat_train_targets = flatten(train_targets_int_unpadded)"
      ],
      "metadata": {
        "colab": {
          "base_uri": "https://localhost:8080/"
        },
        "id": "r43EFCnGCaTg",
        "outputId": "6b17a7c9-06c3-4cbe-895c-97663d160793"
      },
      "execution_count": 131,
      "outputs": [
        {
          "output_type": "stream",
          "name": "stdout",
          "text": [
            "1201/1201 [==============================] - 53s 41ms/step\n"
          ]
        }
      ]
    },
    {
      "cell_type": "code",
      "source": [
        "test_probs = model.predict(test_inputs_int)\n",
        "test_predictions = []\n",
        "for probs, length in zip(test_probs, test_lengths):\n",
        "  probs_ = probs[-length:]\n",
        "  preds = np.argmax(probs_, axis=1)\n",
        "  test_predictions.append(preds)\n",
        "flat_test_predictions = flatten(test_predictions)\n",
        "flat_test_targets = flatten(test_targets_int_unpadded)"
      ],
      "metadata": {
        "colab": {
          "base_uri": "https://localhost:8080/"
        },
        "id": "z-2pqyK9DXEb",
        "outputId": "9848ee1c-6162-43c3-848e-3d93879eb719"
      },
      "execution_count": 132,
      "outputs": [
        {
          "output_type": "stream",
          "name": "stdout",
          "text": [
            "592/592 [==============================] - 28s 47ms/step\n"
          ]
        }
      ]
    },
    {
      "cell_type": "code",
      "source": [
        "from sklearn.metrics import accuracy_score, f1_score\n",
        "\n",
        "print(\"Train acc: \", accuracy_score(flat_train_targets, flat_train_predictions))\n",
        "print(\"Test acc: \", accuracy_score(flat_test_targets, flat_test_predictions))\n",
        "\n",
        "print(\"Train f1: \", f1_score(flat_train_targets, flat_train_predictions, average=\"macro\"))\n",
        "print(\"Test f1: \", f1_score(flat_test_targets, flat_test_predictions, average=\"macro\"))"
      ],
      "metadata": {
        "colab": {
          "base_uri": "https://localhost:8080/"
        },
        "id": "Z08TLhpyFgKV",
        "outputId": "6b08b6a2-67bb-486a-e04e-973272f75329"
      },
      "execution_count": 133,
      "outputs": [
        {
          "output_type": "stream",
          "name": "stdout",
          "text": [
            "Train acc:  0.9938618610282154\n",
            "Test acc:  0.9720077472031239\n",
            "Train f1:  0.9861753468487772\n",
            "Test f1:  0.927216957059603\n"
          ]
        }
      ]
    },
    {
      "cell_type": "code",
      "source": [
        "from collections import Counter\n",
        "\n",
        "def most_common(lst):\n",
        "  data = Counter(lst)\n",
        "  return data.most_common(1)[0][0]"
      ],
      "metadata": {
        "id": "_Zne28AGFyJ9"
      },
      "execution_count": 134,
      "outputs": []
    },
    {
      "cell_type": "code",
      "source": [
        "token2tags = {k: [] for k,v in word2idx.items()}"
      ],
      "metadata": {
        "id": "wBUSDyXvGpLN"
      },
      "execution_count": 135,
      "outputs": []
    },
    {
      "cell_type": "code",
      "source": [
        "del token2tags[\"UNK\"]"
      ],
      "metadata": {
        "id": "c4Lk3cWaG1jv"
      },
      "execution_count": 136,
      "outputs": []
    },
    {
      "cell_type": "code",
      "source": [
        "for tokens,tags in zip(train_inputs, train_targets):\n",
        "  for token, tag in zip(tokens, tags):\n",
        "    if token in token2tags:\n",
        "      token2tags[token].append(tag)\n",
        "\n",
        "token2tag = {k:most_common(v) for k, v in token2tags.items()}"
      ],
      "metadata": {
        "id": "5LW3rzeLHFor"
      },
      "execution_count": 137,
      "outputs": []
    },
    {
      "cell_type": "code",
      "source": [
        "train_predictions = []\n",
        "for sentence in train_inputs:\n",
        "  predictions = []\n",
        "  for token in sentence:\n",
        "    predicted_tag = token2tag[token]\n",
        "    predictions.append(predicted_tag)\n",
        "  train_predictions.append(predictions)\n",
        "\n",
        "flat_train_predictions = flatten(train_predictions)\n",
        "flat_train_targets = flatten(train_targets)"
      ],
      "metadata": {
        "id": "qtfxwmOJH4v4"
      },
      "execution_count": 138,
      "outputs": []
    },
    {
      "cell_type": "code",
      "source": [
        "test_predictions = []\n",
        "for sentence in test_inputs:\n",
        "  predictions = []\n",
        "  for token in sentence:\n",
        "    predicted_tag = token2tag.get(token, \"INCORRECT\")\n",
        "    predictions.append(predicted_tag)\n",
        "  test_predictions.append(predictions)\n",
        "\n",
        "flat_test_predictions = flatten(test_predictions)\n",
        "flat_test_targets = flatten(test_targets)"
      ],
      "metadata": {
        "id": "VArQoaS8IiIE"
      },
      "execution_count": 139,
      "outputs": []
    },
    {
      "cell_type": "code",
      "source": [
        "from sklearn.metrics import accuracy_score, f1_score\n",
        "\n",
        "print(\"Train acc: \", accuracy_score(flat_train_targets, flat_train_predictions))\n",
        "print(\"Test acc: \", accuracy_score(flat_test_targets, flat_test_predictions))\n",
        "\n",
        "print(\"Train f1: \", f1_score(flat_train_targets, flat_train_predictions, average=\"macro\"))\n",
        "print(\"Test f1: \", f1_score(flat_test_targets, flat_test_predictions, average=\"macro\"))"
      ],
      "metadata": {
        "colab": {
          "base_uri": "https://localhost:8080/"
        },
        "id": "Jke242lLI42H",
        "outputId": "13e9b681-620c-43d4-e91f-5a3351055ac2"
      },
      "execution_count": 140,
      "outputs": [
        {
          "output_type": "stream",
          "name": "stdout",
          "text": [
            "Train acc:  0.9572168115092676\n",
            "Test acc:  0.9271507102472945\n",
            "Train f1:  0.9380748933122304\n",
            "Test f1:  0.8248870658898966\n"
          ]
        }
      ]
    },
    {
      "cell_type": "code",
      "source": [],
      "metadata": {
        "id": "wskfBLCVKwtt"
      },
      "execution_count": null,
      "outputs": []
    }
  ]
}