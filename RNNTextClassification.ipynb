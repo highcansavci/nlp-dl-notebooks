{
  "nbformat": 4,
  "nbformat_minor": 0,
  "metadata": {
    "colab": {
      "provenance": []
    },
    "kernelspec": {
      "name": "python3",
      "display_name": "Python 3"
    },
    "language_info": {
      "name": "python"
    }
  },
  "cells": [
    {
      "cell_type": "code",
      "execution_count": 1,
      "metadata": {
        "colab": {
          "base_uri": "https://localhost:8080/"
        },
        "id": "T671E_j-L6Cw",
        "outputId": "9106ba58-7b66-455d-dc65-ccb9bf5702fd"
      },
      "outputs": [
        {
          "output_type": "stream",
          "name": "stdout",
          "text": [
            "--2022-12-14 10:31:40--  https://lazyprogrammer.me/course_files/nlp/bbc_text_cls.csv\n",
            "Resolving lazyprogrammer.me (lazyprogrammer.me)... 172.67.213.166, 104.21.23.210, 2606:4700:3031::6815:17d2, ...\n",
            "Connecting to lazyprogrammer.me (lazyprogrammer.me)|172.67.213.166|:443... connected.\n",
            "HTTP request sent, awaiting response... 200 OK\n",
            "Length: 5085081 (4.8M) [text/csv]\n",
            "Saving to: ‘bbc_text_cls.csv’\n",
            "\n",
            "bbc_text_cls.csv    100%[===================>]   4.85M  13.7MB/s    in 0.4s    \n",
            "\n",
            "2022-12-14 10:31:40 (13.7 MB/s) - ‘bbc_text_cls.csv’ saved [5085081/5085081]\n",
            "\n"
          ]
        }
      ],
      "source": [
        "!wget -nc https://lazyprogrammer.me/course_files/nlp/bbc_text_cls.csv"
      ]
    },
    {
      "cell_type": "code",
      "source": [
        "import numpy as np \n",
        "import pandas as pd\n",
        "import tensorflow as tf\n",
        "import matplotlib.pyplot as plt\n",
        "from sklearn.model_selection import train_test_split\n",
        "\n",
        "from tensorflow.keras.preprocessing.text import Tokenizer\n",
        "from tensorflow.keras.preprocessing.sequence import pad_sequences\n",
        "from tensorflow.keras.models import Model \n",
        "from tensorflow.keras.layers import Dense, Input, GlobalMaxPooling1D, LSTM, GRU, SimpleRNN, Embedding\n",
        "from tensorflow.keras.losses import SparseCategoricalCrossentropy\n",
        "\n",
        "from sklearn.metrics import roc_auc_score, f1_score, confusion_matrix, ConfusionMatrixDisplay"
      ],
      "metadata": {
        "id": "vFvDbA7oMGNz"
      },
      "execution_count": 30,
      "outputs": []
    },
    {
      "cell_type": "code",
      "source": [
        "df = pd.read_csv(\"bbc_text_cls.csv\")"
      ],
      "metadata": {
        "id": "rL1WD8eENFjN"
      },
      "execution_count": 3,
      "outputs": []
    },
    {
      "cell_type": "code",
      "source": [
        "df.head()"
      ],
      "metadata": {
        "colab": {
          "base_uri": "https://localhost:8080/",
          "height": 206
        },
        "id": "57kaXlC6NTz5",
        "outputId": "449d426d-8093-4593-fe07-6dcdc8c61001"
      },
      "execution_count": 4,
      "outputs": [
        {
          "output_type": "execute_result",
          "data": {
            "text/plain": [
              "                                                text    labels\n",
              "0  Ad sales boost Time Warner profit\\n\\nQuarterly...  business\n",
              "1  Dollar gains on Greenspan speech\\n\\nThe dollar...  business\n",
              "2  Yukos unit buyer faces loan claim\\n\\nThe owner...  business\n",
              "3  High fuel prices hit BA's profits\\n\\nBritish A...  business\n",
              "4  Pernod takeover talk lifts Domecq\\n\\nShares in...  business"
            ],
            "text/html": [
              "\n",
              "  <div id=\"df-61ca22e4-1f20-441b-952d-f9de4007941c\">\n",
              "    <div class=\"colab-df-container\">\n",
              "      <div>\n",
              "<style scoped>\n",
              "    .dataframe tbody tr th:only-of-type {\n",
              "        vertical-align: middle;\n",
              "    }\n",
              "\n",
              "    .dataframe tbody tr th {\n",
              "        vertical-align: top;\n",
              "    }\n",
              "\n",
              "    .dataframe thead th {\n",
              "        text-align: right;\n",
              "    }\n",
              "</style>\n",
              "<table border=\"1\" class=\"dataframe\">\n",
              "  <thead>\n",
              "    <tr style=\"text-align: right;\">\n",
              "      <th></th>\n",
              "      <th>text</th>\n",
              "      <th>labels</th>\n",
              "    </tr>\n",
              "  </thead>\n",
              "  <tbody>\n",
              "    <tr>\n",
              "      <th>0</th>\n",
              "      <td>Ad sales boost Time Warner profit\\n\\nQuarterly...</td>\n",
              "      <td>business</td>\n",
              "    </tr>\n",
              "    <tr>\n",
              "      <th>1</th>\n",
              "      <td>Dollar gains on Greenspan speech\\n\\nThe dollar...</td>\n",
              "      <td>business</td>\n",
              "    </tr>\n",
              "    <tr>\n",
              "      <th>2</th>\n",
              "      <td>Yukos unit buyer faces loan claim\\n\\nThe owner...</td>\n",
              "      <td>business</td>\n",
              "    </tr>\n",
              "    <tr>\n",
              "      <th>3</th>\n",
              "      <td>High fuel prices hit BA's profits\\n\\nBritish A...</td>\n",
              "      <td>business</td>\n",
              "    </tr>\n",
              "    <tr>\n",
              "      <th>4</th>\n",
              "      <td>Pernod takeover talk lifts Domecq\\n\\nShares in...</td>\n",
              "      <td>business</td>\n",
              "    </tr>\n",
              "  </tbody>\n",
              "</table>\n",
              "</div>\n",
              "      <button class=\"colab-df-convert\" onclick=\"convertToInteractive('df-61ca22e4-1f20-441b-952d-f9de4007941c')\"\n",
              "              title=\"Convert this dataframe to an interactive table.\"\n",
              "              style=\"display:none;\">\n",
              "        \n",
              "  <svg xmlns=\"http://www.w3.org/2000/svg\" height=\"24px\"viewBox=\"0 0 24 24\"\n",
              "       width=\"24px\">\n",
              "    <path d=\"M0 0h24v24H0V0z\" fill=\"none\"/>\n",
              "    <path d=\"M18.56 5.44l.94 2.06.94-2.06 2.06-.94-2.06-.94-.94-2.06-.94 2.06-2.06.94zm-11 1L8.5 8.5l.94-2.06 2.06-.94-2.06-.94L8.5 2.5l-.94 2.06-2.06.94zm10 10l.94 2.06.94-2.06 2.06-.94-2.06-.94-.94-2.06-.94 2.06-2.06.94z\"/><path d=\"M17.41 7.96l-1.37-1.37c-.4-.4-.92-.59-1.43-.59-.52 0-1.04.2-1.43.59L10.3 9.45l-7.72 7.72c-.78.78-.78 2.05 0 2.83L4 21.41c.39.39.9.59 1.41.59.51 0 1.02-.2 1.41-.59l7.78-7.78 2.81-2.81c.8-.78.8-2.07 0-2.86zM5.41 20L4 18.59l7.72-7.72 1.47 1.35L5.41 20z\"/>\n",
              "  </svg>\n",
              "      </button>\n",
              "      \n",
              "  <style>\n",
              "    .colab-df-container {\n",
              "      display:flex;\n",
              "      flex-wrap:wrap;\n",
              "      gap: 12px;\n",
              "    }\n",
              "\n",
              "    .colab-df-convert {\n",
              "      background-color: #E8F0FE;\n",
              "      border: none;\n",
              "      border-radius: 50%;\n",
              "      cursor: pointer;\n",
              "      display: none;\n",
              "      fill: #1967D2;\n",
              "      height: 32px;\n",
              "      padding: 0 0 0 0;\n",
              "      width: 32px;\n",
              "    }\n",
              "\n",
              "    .colab-df-convert:hover {\n",
              "      background-color: #E2EBFA;\n",
              "      box-shadow: 0px 1px 2px rgba(60, 64, 67, 0.3), 0px 1px 3px 1px rgba(60, 64, 67, 0.15);\n",
              "      fill: #174EA6;\n",
              "    }\n",
              "\n",
              "    [theme=dark] .colab-df-convert {\n",
              "      background-color: #3B4455;\n",
              "      fill: #D2E3FC;\n",
              "    }\n",
              "\n",
              "    [theme=dark] .colab-df-convert:hover {\n",
              "      background-color: #434B5C;\n",
              "      box-shadow: 0px 1px 3px 1px rgba(0, 0, 0, 0.15);\n",
              "      filter: drop-shadow(0px 1px 2px rgba(0, 0, 0, 0.3));\n",
              "      fill: #FFFFFF;\n",
              "    }\n",
              "  </style>\n",
              "\n",
              "      <script>\n",
              "        const buttonEl =\n",
              "          document.querySelector('#df-61ca22e4-1f20-441b-952d-f9de4007941c button.colab-df-convert');\n",
              "        buttonEl.style.display =\n",
              "          google.colab.kernel.accessAllowed ? 'block' : 'none';\n",
              "\n",
              "        async function convertToInteractive(key) {\n",
              "          const element = document.querySelector('#df-61ca22e4-1f20-441b-952d-f9de4007941c');\n",
              "          const dataTable =\n",
              "            await google.colab.kernel.invokeFunction('convertToInteractive',\n",
              "                                                     [key], {});\n",
              "          if (!dataTable) return;\n",
              "\n",
              "          const docLinkHtml = 'Like what you see? Visit the ' +\n",
              "            '<a target=\"_blank\" href=https://colab.research.google.com/notebooks/data_table.ipynb>data table notebook</a>'\n",
              "            + ' to learn more about interactive tables.';\n",
              "          element.innerHTML = '';\n",
              "          dataTable['output_type'] = 'display_data';\n",
              "          await google.colab.output.renderOutput(dataTable, element);\n",
              "          const docLink = document.createElement('div');\n",
              "          docLink.innerHTML = docLinkHtml;\n",
              "          element.appendChild(docLink);\n",
              "        }\n",
              "      </script>\n",
              "    </div>\n",
              "  </div>\n",
              "  "
            ]
          },
          "metadata": {},
          "execution_count": 4
        }
      ]
    },
    {
      "cell_type": "code",
      "source": [
        "df[\"targets\"] = df[\"labels\"].astype(\"category\").cat.codes"
      ],
      "metadata": {
        "id": "SpBFiSbTNV3w"
      },
      "execution_count": 5,
      "outputs": []
    },
    {
      "cell_type": "code",
      "source": [
        "K = df[\"targets\"].max() + 1\n",
        "K"
      ],
      "metadata": {
        "colab": {
          "base_uri": "https://localhost:8080/"
        },
        "id": "IRRlJdZhNfPs",
        "outputId": "eda8feb0-5e9a-4acf-eb5f-a6da7e122d16"
      },
      "execution_count": 6,
      "outputs": [
        {
          "output_type": "execute_result",
          "data": {
            "text/plain": [
              "5"
            ]
          },
          "metadata": {},
          "execution_count": 6
        }
      ]
    },
    {
      "cell_type": "code",
      "source": [
        "df_train, df_test = train_test_split(df, test_size=0.33)"
      ],
      "metadata": {
        "id": "VnztM-haNkJg"
      },
      "execution_count": 7,
      "outputs": []
    },
    {
      "cell_type": "code",
      "source": [
        "MAX_VOCAB_SIZE = 2000\n",
        "tokenizer = Tokenizer(num_words=MAX_VOCAB_SIZE)\n",
        "tokenizer.fit_on_texts(df_train[\"text\"])\n",
        "sequences_train = tokenizer.texts_to_sequences(df_train[\"text\"])\n",
        "sequences_test = tokenizer.texts_to_sequences(df_test[\"text\"]) "
      ],
      "metadata": {
        "id": "iL4JA4N-Nzkl"
      },
      "execution_count": 8,
      "outputs": []
    },
    {
      "cell_type": "code",
      "source": [
        "word2idx = tokenizer.word_index\n",
        "V = len(word2idx)\n",
        "print(f\"Found {V} unique tokens.\")"
      ],
      "metadata": {
        "colab": {
          "base_uri": "https://localhost:8080/"
        },
        "id": "94zVVL5eOekp",
        "outputId": "c8694110-2dee-4be5-9d79-62be5778ec42"
      },
      "execution_count": 9,
      "outputs": [
        {
          "output_type": "stream",
          "name": "stdout",
          "text": [
            "Found 27238 unique tokens.\n"
          ]
        }
      ]
    },
    {
      "cell_type": "code",
      "source": [
        "data_train = pad_sequences(sequences_train)\n",
        "print(f\"Shape of the data train tensor: {data_train.shape}\")"
      ],
      "metadata": {
        "colab": {
          "base_uri": "https://localhost:8080/"
        },
        "id": "7TDSQH1HOss5",
        "outputId": "52cd24f5-0b5c-42e9-b409-68bd54dde90b"
      },
      "execution_count": 11,
      "outputs": [
        {
          "output_type": "stream",
          "name": "stdout",
          "text": [
            "Shape of the data train tensor: (1490, 3472)\n"
          ]
        }
      ]
    },
    {
      "cell_type": "code",
      "source": [
        "T = data_train.shape[1]\n",
        "data_test = pad_sequences(sequences_test, maxlen=T)\n",
        "print(f\"Shape of the data test tensor: {data_test.shape}\")"
      ],
      "metadata": {
        "colab": {
          "base_uri": "https://localhost:8080/"
        },
        "id": "EmvnKmd0Oytk",
        "outputId": "b0a08a99-6830-4b57-904f-c389e9131d19"
      },
      "execution_count": 12,
      "outputs": [
        {
          "output_type": "stream",
          "name": "stdout",
          "text": [
            "Shape of the data test tensor: (735, 3472)\n"
          ]
        }
      ]
    },
    {
      "cell_type": "code",
      "source": [
        "D = 50\n",
        "\n",
        "i = Input(shape=(T,))\n",
        "x = Embedding(V + 1, D)(i)\n",
        "x = LSTM(32, return_sequences=True)(x)\n",
        "x = GlobalMaxPooling1D()(x)\n",
        "x = Dense(K)(x)\n",
        "\n",
        "model = Model(i, x)"
      ],
      "metadata": {
        "id": "pBa5XISmPWRH"
      },
      "execution_count": 13,
      "outputs": []
    },
    {
      "cell_type": "code",
      "source": [
        "model.summary()"
      ],
      "metadata": {
        "colab": {
          "base_uri": "https://localhost:8080/"
        },
        "id": "ZZjsNtI0QWYe",
        "outputId": "6bde3977-75c8-4a2c-a0f8-351942c2a088"
      },
      "execution_count": 14,
      "outputs": [
        {
          "output_type": "stream",
          "name": "stdout",
          "text": [
            "Model: \"model\"\n",
            "_________________________________________________________________\n",
            " Layer (type)                Output Shape              Param #   \n",
            "=================================================================\n",
            " input_1 (InputLayer)        [(None, 3472)]            0         \n",
            "                                                                 \n",
            " embedding (Embedding)       (None, 3472, 50)          1361950   \n",
            "                                                                 \n",
            " lstm (LSTM)                 (None, 3472, 32)          10624     \n",
            "                                                                 \n",
            " global_max_pooling1d (Globa  (None, 32)               0         \n",
            " lMaxPooling1D)                                                  \n",
            "                                                                 \n",
            " dense (Dense)               (None, 5)                 165       \n",
            "                                                                 \n",
            "=================================================================\n",
            "Total params: 1,372,739\n",
            "Trainable params: 1,372,739\n",
            "Non-trainable params: 0\n",
            "_________________________________________________________________\n"
          ]
        }
      ]
    },
    {
      "cell_type": "code",
      "source": [
        "# i = Input(shape=(T,))\n",
        "# x = Embedding(V + 1, D)(i)\n",
        "# x = GRU(32, return_sequences=True)(x)\n",
        "# x = GlobalMaxPooling1D()(x)\n",
        "# x = Dense(K)(x)\n",
        "\n",
        "# model = Model(i, x)"
      ],
      "metadata": {
        "id": "C8wa9S1nQX4K"
      },
      "execution_count": null,
      "outputs": []
    },
    {
      "cell_type": "code",
      "source": [
        "# i = Input(shape=(T,))\n",
        "# x = Embedding(V + 1, D)(i)\n",
        "# x = SimpleRNN(32, return_sequences=True)(x)\n",
        "# x = GlobalMaxPooling1D()(x)\n",
        "# x = Dense(K)(x)\n",
        "\n",
        "# model = Model(i, x)"
      ],
      "metadata": {
        "id": "XM0WwAdbQ0PN"
      },
      "execution_count": 15,
      "outputs": []
    },
    {
      "cell_type": "code",
      "source": [
        "# i = Input(shape=(T,))\n",
        "# x = Embedding(V + 1, D)(i)\n",
        "# x = LSTM(32)(x)\n",
        "# x = Dense(K)(x)\n",
        "\n",
        "# model = Model(i, x)"
      ],
      "metadata": {
        "id": "EZ-RwmHmQ-7U"
      },
      "execution_count": null,
      "outputs": []
    },
    {
      "cell_type": "code",
      "source": [
        "# i = Input(shape=(T,))\n",
        "# x = Embedding(V + 1, D)(i)\n",
        "# x = GRU(32)(x)\n",
        "# x = Dense(K)(x)\n",
        "\n",
        "# model = Model(i, x)"
      ],
      "metadata": {
        "id": "wzbg95BIReyb"
      },
      "execution_count": null,
      "outputs": []
    },
    {
      "cell_type": "code",
      "source": [
        "# i = Input(shape=(T,))\n",
        "# x = Embedding(V + 1, D)(i)\n",
        "# x = SimpleRNN(32)(x)\n",
        "# x = Dense(K)(x)\n",
        "\n",
        "# model = Model(i, x)"
      ],
      "metadata": {
        "id": "RIsKAII9RgwJ"
      },
      "execution_count": null,
      "outputs": []
    },
    {
      "cell_type": "code",
      "source": [
        "model.compile(\n",
        "    loss=SparseCategoricalCrossentropy(from_logits=True),\n",
        "    optimizer=\"adam\",\n",
        "    metrics=[\"accuracy\"]\n",
        ")\n",
        "\n",
        "ft = model.fit(\n",
        "    data_train,\n",
        "    df_train[\"targets\"],\n",
        "    epochs=50,\n",
        "    validation_data=(data_test, df_test[\"targets\"])\n",
        ")"
      ],
      "metadata": {
        "colab": {
          "base_uri": "https://localhost:8080/"
        },
        "id": "6NjDlf1uR0Iq",
        "outputId": "376e3529-4f31-4359-88a4-19df20493e81"
      },
      "execution_count": 17,
      "outputs": [
        {
          "output_type": "stream",
          "name": "stdout",
          "text": [
            "Epoch 1/50\n",
            "47/47 [==============================] - 108s 2s/step - loss: 1.5290 - accuracy: 0.4208 - val_loss: 1.4071 - val_accuracy: 0.4136\n",
            "Epoch 2/50\n",
            "47/47 [==============================] - 104s 2s/step - loss: 1.5251 - accuracy: 0.3752 - val_loss: 1.2969 - val_accuracy: 0.7129\n",
            "Epoch 3/50\n",
            "47/47 [==============================] - 103s 2s/step - loss: 1.0931 - accuracy: 0.7745 - val_loss: 0.9807 - val_accuracy: 0.8408\n",
            "Epoch 4/50\n",
            "47/47 [==============================] - 104s 2s/step - loss: 0.7682 - accuracy: 0.8805 - val_loss: 0.6473 - val_accuracy: 0.8762\n",
            "Epoch 5/50\n",
            "47/47 [==============================] - 104s 2s/step - loss: 0.5023 - accuracy: 0.9295 - val_loss: 0.4889 - val_accuracy: 0.8993\n",
            "Epoch 6/50\n",
            "47/47 [==============================] - 103s 2s/step - loss: 0.3847 - accuracy: 0.9141 - val_loss: 0.3795 - val_accuracy: 0.9252\n",
            "Epoch 7/50\n",
            "47/47 [==============================] - 106s 2s/step - loss: 0.2710 - accuracy: 0.9490 - val_loss: 0.3682 - val_accuracy: 0.8803\n",
            "Epoch 8/50\n",
            "47/47 [==============================] - 106s 2s/step - loss: 0.1762 - accuracy: 0.9691 - val_loss: 0.3691 - val_accuracy: 0.8844\n",
            "Epoch 9/50\n",
            "47/47 [==============================] - 105s 2s/step - loss: 0.1371 - accuracy: 0.9805 - val_loss: 0.3131 - val_accuracy: 0.9197\n",
            "Epoch 10/50\n",
            "47/47 [==============================] - 107s 2s/step - loss: 0.1078 - accuracy: 0.9846 - val_loss: 0.3169 - val_accuracy: 0.9129\n",
            "Epoch 11/50\n",
            "47/47 [==============================] - 133s 3s/step - loss: 0.0899 - accuracy: 0.9852 - val_loss: 0.2334 - val_accuracy: 0.9415\n",
            "Epoch 12/50\n",
            "47/47 [==============================] - 132s 3s/step - loss: 0.0611 - accuracy: 0.9940 - val_loss: 0.2087 - val_accuracy: 0.9469\n",
            "Epoch 13/50\n",
            "47/47 [==============================] - 124s 3s/step - loss: 0.0558 - accuracy: 0.9933 - val_loss: 0.2708 - val_accuracy: 0.9293\n",
            "Epoch 14/50\n",
            "47/47 [==============================] - 108s 2s/step - loss: 0.0493 - accuracy: 0.9933 - val_loss: 0.2335 - val_accuracy: 0.9388\n",
            "Epoch 15/50\n",
            "47/47 [==============================] - 108s 2s/step - loss: 0.0368 - accuracy: 0.9966 - val_loss: 0.2310 - val_accuracy: 0.9401\n",
            "Epoch 16/50\n",
            "47/47 [==============================] - 105s 2s/step - loss: 0.0312 - accuracy: 0.9973 - val_loss: 0.2378 - val_accuracy: 0.9388\n",
            "Epoch 17/50\n",
            "47/47 [==============================] - 106s 2s/step - loss: 0.0265 - accuracy: 0.9980 - val_loss: 0.2779 - val_accuracy: 0.9279\n",
            "Epoch 18/50\n",
            "47/47 [==============================] - 105s 2s/step - loss: 0.0242 - accuracy: 0.9980 - val_loss: 0.2731 - val_accuracy: 0.9306\n",
            "Epoch 19/50\n",
            "47/47 [==============================] - 106s 2s/step - loss: 0.0203 - accuracy: 0.9993 - val_loss: 0.2844 - val_accuracy: 0.9279\n",
            "Epoch 20/50\n",
            "47/47 [==============================] - 105s 2s/step - loss: 0.0182 - accuracy: 0.9993 - val_loss: 0.2778 - val_accuracy: 0.9333\n",
            "Epoch 21/50\n",
            "47/47 [==============================] - 107s 2s/step - loss: 0.0166 - accuracy: 0.9993 - val_loss: 0.2833 - val_accuracy: 0.9320\n",
            "Epoch 22/50\n",
            "47/47 [==============================] - 105s 2s/step - loss: 0.0154 - accuracy: 0.9993 - val_loss: 0.2827 - val_accuracy: 0.9333\n",
            "Epoch 23/50\n",
            "47/47 [==============================] - 106s 2s/step - loss: 0.0143 - accuracy: 0.9993 - val_loss: 0.2840 - val_accuracy: 0.9347\n",
            "Epoch 24/50\n",
            "47/47 [==============================] - 106s 2s/step - loss: 0.0133 - accuracy: 0.9993 - val_loss: 0.2867 - val_accuracy: 0.9347\n",
            "Epoch 25/50\n",
            "47/47 [==============================] - 106s 2s/step - loss: 0.0125 - accuracy: 0.9993 - val_loss: 0.2907 - val_accuracy: 0.9347\n",
            "Epoch 26/50\n",
            "47/47 [==============================] - 105s 2s/step - loss: 0.0117 - accuracy: 0.9993 - val_loss: 0.2911 - val_accuracy: 0.9361\n",
            "Epoch 27/50\n",
            "47/47 [==============================] - 108s 2s/step - loss: 0.0111 - accuracy: 0.9993 - val_loss: 0.3002 - val_accuracy: 0.9347\n",
            "Epoch 28/50\n",
            "47/47 [==============================] - 107s 2s/step - loss: 0.0105 - accuracy: 0.9993 - val_loss: 0.3033 - val_accuracy: 0.9347\n",
            "Epoch 29/50\n",
            "47/47 [==============================] - 106s 2s/step - loss: 0.0100 - accuracy: 0.9993 - val_loss: 0.3051 - val_accuracy: 0.9347\n",
            "Epoch 30/50\n",
            "47/47 [==============================] - 105s 2s/step - loss: 0.0096 - accuracy: 0.9993 - val_loss: 0.3077 - val_accuracy: 0.9347\n",
            "Epoch 31/50\n",
            "47/47 [==============================] - 105s 2s/step - loss: 0.0092 - accuracy: 0.9993 - val_loss: 0.3103 - val_accuracy: 0.9347\n",
            "Epoch 32/50\n",
            "47/47 [==============================] - 104s 2s/step - loss: 0.0088 - accuracy: 0.9993 - val_loss: 0.3093 - val_accuracy: 0.9361\n",
            "Epoch 33/50\n",
            "47/47 [==============================] - 106s 2s/step - loss: 0.0084 - accuracy: 0.9993 - val_loss: 0.3118 - val_accuracy: 0.9361\n",
            "Epoch 34/50\n",
            "47/47 [==============================] - 104s 2s/step - loss: 0.0081 - accuracy: 0.9993 - val_loss: 0.3178 - val_accuracy: 0.9347\n",
            "Epoch 35/50\n",
            "47/47 [==============================] - 105s 2s/step - loss: 0.0078 - accuracy: 0.9993 - val_loss: 0.3207 - val_accuracy: 0.9347\n",
            "Epoch 36/50\n",
            "47/47 [==============================] - 104s 2s/step - loss: 0.0075 - accuracy: 0.9993 - val_loss: 0.3235 - val_accuracy: 0.9347\n",
            "Epoch 37/50\n",
            "47/47 [==============================] - 105s 2s/step - loss: 0.0073 - accuracy: 0.9993 - val_loss: 0.3281 - val_accuracy: 0.9333\n",
            "Epoch 38/50\n",
            "47/47 [==============================] - 104s 2s/step - loss: 0.0070 - accuracy: 0.9993 - val_loss: 0.3323 - val_accuracy: 0.9333\n",
            "Epoch 39/50\n",
            "47/47 [==============================] - 105s 2s/step - loss: 0.0068 - accuracy: 0.9993 - val_loss: 0.3331 - val_accuracy: 0.9333\n",
            "Epoch 40/50\n",
            "47/47 [==============================] - 104s 2s/step - loss: 0.0066 - accuracy: 0.9993 - val_loss: 0.3366 - val_accuracy: 0.9333\n",
            "Epoch 41/50\n",
            "47/47 [==============================] - 105s 2s/step - loss: 0.0063 - accuracy: 0.9993 - val_loss: 0.3393 - val_accuracy: 0.9333\n",
            "Epoch 42/50\n",
            "47/47 [==============================] - 104s 2s/step - loss: 0.0061 - accuracy: 0.9993 - val_loss: 0.3419 - val_accuracy: 0.9333\n",
            "Epoch 43/50\n",
            "47/47 [==============================] - 104s 2s/step - loss: 0.0257 - accuracy: 0.9940 - val_loss: 0.4059 - val_accuracy: 0.9265\n",
            "Epoch 44/50\n",
            "47/47 [==============================] - 103s 2s/step - loss: 0.1926 - accuracy: 0.9503 - val_loss: 0.3994 - val_accuracy: 0.8952\n",
            "Epoch 45/50\n",
            "47/47 [==============================] - 105s 2s/step - loss: 0.0618 - accuracy: 0.9832 - val_loss: 0.2180 - val_accuracy: 0.9456\n",
            "Epoch 46/50\n",
            "47/47 [==============================] - 104s 2s/step - loss: 0.0842 - accuracy: 0.9745 - val_loss: 0.3625 - val_accuracy: 0.8993\n",
            "Epoch 47/50\n",
            "47/47 [==============================] - 105s 2s/step - loss: 0.0423 - accuracy: 0.9893 - val_loss: 0.2159 - val_accuracy: 0.9388\n",
            "Epoch 48/50\n",
            "47/47 [==============================] - 104s 2s/step - loss: 0.0256 - accuracy: 0.9953 - val_loss: 0.4015 - val_accuracy: 0.9102\n",
            "Epoch 49/50\n",
            "47/47 [==============================] - 104s 2s/step - loss: 0.1689 - accuracy: 0.9456 - val_loss: 0.3403 - val_accuracy: 0.8803\n",
            "Epoch 50/50\n",
            "47/47 [==============================] - 104s 2s/step - loss: 0.1632 - accuracy: 0.9503 - val_loss: 0.2626 - val_accuracy: 0.9361\n"
          ]
        }
      ]
    },
    {
      "cell_type": "code",
      "source": [
        "plt.plot(ft.history[\"loss\"], label=\"train loss\")\n",
        "plt.plot(ft.history[\"val_loss\"], label=\"val loss\")\n",
        "plt.legend();"
      ],
      "metadata": {
        "colab": {
          "base_uri": "https://localhost:8080/",
          "height": 269
        },
        "id": "fP7rUHqpSd4P",
        "outputId": "82341aa6-d840-448f-b313-7212fcc299ce"
      },
      "execution_count": 18,
      "outputs": [
        {
          "output_type": "display_data",
          "data": {
            "text/plain": [
              "<Figure size 432x288 with 1 Axes>"
            ],
            "image/png": "[encoded data removed]"
          },
          "metadata": {
            "needs_background": "light"
          }
        }
      ]
    },
    {
      "cell_type": "code",
      "source": [
        "plt.plot(ft.history[\"accuracy\"], label=\"train acc\")\n",
        "plt.plot(ft.history[\"val_accuracy\"], label=\"val acc\")\n",
        "plt.legend();"
      ],
      "metadata": {
        "colab": {
          "base_uri": "https://localhost:8080/",
          "height": 265
        },
        "id": "M1gKspJ3TAPw",
        "outputId": "6423ef00-586a-4062-ed03-a983c9c9773a"
      },
      "execution_count": 19,
      "outputs": [
        {
          "output_type": "display_data",
          "data": {
            "text/plain": [
              "<Figure size 432x288 with 1 Axes>"
            ],
            "image/png": "[encoded data removed]"
          },
          "metadata": {
            "needs_background": "light"
          }
        }
      ]
    },
    {
      "cell_type": "code",
      "source": [
        "Ptrain = np.argmax(model.predict(data_train), axis=1)\n",
        "Ptest = np.argmax(model.predict(data_test), axis=1)"
      ],
      "metadata": {
        "colab": {
          "base_uri": "https://localhost:8080/"
        },
        "id": "8IQU8tDXTJV9",
        "outputId": "30a6e15c-6fe8-4f5e-fb05-74ea53f0a96d"
      },
      "execution_count": 25,
      "outputs": [
        {
          "output_type": "stream",
          "name": "stdout",
          "text": [
            "47/47 [==============================] - 14s 287ms/step\n",
            "23/23 [==============================] - 7s 293ms/step\n"
          ]
        }
      ]
    },
    {
      "cell_type": "code",
      "source": [
        "cm = confusion_matrix(df_train[\"targets\"], Ptrain)\n",
        "cm"
      ],
      "metadata": {
        "colab": {
          "base_uri": "https://localhost:8080/"
        },
        "id": "dKF4s9lMXl8J",
        "outputId": "de90b2f3-674e-4082-9edf-7f09008d2fcf"
      },
      "execution_count": 35,
      "outputs": [
        {
          "output_type": "execute_result",
          "data": {
            "text/plain": [
              "array([[340,   0,   5,   0,   7],\n",
              "       [  0, 258,   0,   0,   0],\n",
              "       [  0,   0, 274,   0,   2],\n",
              "       [  0,   1,   1, 343,   1],\n",
              "       [  0,   0,   0,   0, 258]])"
            ]
          },
          "metadata": {},
          "execution_count": 35
        }
      ]
    },
    {
      "cell_type": "code",
      "source": [
        "ConfusionMatrixDisplay.from_predictions(df_train[\"targets\"], Ptrain);"
      ],
      "metadata": {
        "colab": {
          "base_uri": "https://localhost:8080/",
          "height": 279
        },
        "id": "4OQ6tgUdYME6",
        "outputId": "441ec23e-fb16-4c7d-9146-d738a70afb5e"
      },
      "execution_count": 36,
      "outputs": [
        {
          "output_type": "display_data",
          "data": {
            "text/plain": [
              "<Figure size 432x288 with 2 Axes>"
            ],
            "image/png": "[encoded data removed]"
          },
          "metadata": {
            "needs_background": "light"
          }
        }
      ]
    },
    {
      "cell_type": "code",
      "source": [
        "cm_test = confusion_matrix(df_test[\"targets\"], Ptest)\n",
        "cm_test"
      ],
      "metadata": {
        "colab": {
          "base_uri": "https://localhost:8080/"
        },
        "id": "TpiAFSLgX5ow",
        "outputId": "50dca90e-054f-4f2a-f5f6-16faf5f75c0f"
      },
      "execution_count": 37,
      "outputs": [
        {
          "output_type": "execute_result",
          "data": {
            "text/plain": [
              "array([[142,   1,   5,   0,  10],\n",
              "       [  4, 116,   2,   2,   4],\n",
              "       [  2,   2, 136,   1,   0],\n",
              "       [  0,   6,   0, 158,   1],\n",
              "       [  3,   2,   0,   2, 136]])"
            ]
          },
          "metadata": {},
          "execution_count": 37
        }
      ]
    },
    {
      "cell_type": "code",
      "source": [
        "ConfusionMatrixDisplay.from_predictions(df_test[\"targets\"], Ptest);"
      ],
      "metadata": {
        "colab": {
          "base_uri": "https://localhost:8080/",
          "height": 279
        },
        "id": "cV8SnmTuYCV6",
        "outputId": "ef7574b5-3f94-4cd2-8e9d-bc6fab114c1f"
      },
      "execution_count": 38,
      "outputs": [
        {
          "output_type": "display_data",
          "data": {
            "text/plain": [
              "<Figure size 432x288 with 2 Axes>"
            ],
            "image/png": "[encoded data removed]"
          },
          "metadata": {
            "needs_background": "light"
          }
        }
      ]
    },
    {
      "cell_type": "code",
      "source": [],
      "metadata": {
        "id": "R-irjggUv5dd"
      },
      "execution_count": null,
      "outputs": []
    }
  ]
}